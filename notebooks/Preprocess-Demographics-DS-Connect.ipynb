{
 "cells": [
  {
   "cell_type": "markdown",
   "id": "0c4016d2-f090-4471-85df-3ce96764bb0c",
   "metadata": {},
   "source": [
    "# Preprocess Demographics - DS-Connect\n",
    "\n",
    "The \"dsc_demographics.tsv\" demographics file needs to be transformed to use with the LinkML data ingest pipeline in order to have only one column for race. This notebook will transform the dsc_demographics data to have only one column for “race” and the value will be the race value from the column header where a value of 1 is present and if more than one column has a value of 1 then the race value is “more than one race”. The existing \"race_\" columns need to be removed so that they are not included in the implicit, study specific model.\n",
    "\n",
    "For example, the race columns are: race_american_indian, race_asian, race_black, race_pacific_islander, race_white, race_unknown.\n",
    "For any row/participant where the value for one of the race columns is 1 the header value for that column will be the race value, unless more than one race column has a value of 1 then the value will be \"more than one race\"."
   ]
  },
  {
   "cell_type": "code",
   "execution_count": 1,
   "id": "1d970554-98bf-4068-856b-e3c25db9b899",
   "metadata": {},
   "outputs": [],
   "source": [
    "# Imports\n",
    "import pandas as pd"
   ]
  },
  {
   "cell_type": "code",
   "execution_count": 2,
   "id": "5dab3c86-1466-44ef-9ebe-6250a7ee03fc",
   "metadata": {},
   "outputs": [],
   "source": [
    "# Read in data file\n",
    "\n",
    "file_path = \"../data/DS-Connect-STUDY/raw_data/TSV/dsc_demographics.tsv\"\n",
    "\n",
    "df = pd.read_csv(file_path, sep='\\t')"
   ]
  },
  {
   "cell_type": "code",
   "execution_count": 3,
   "id": "75ba735c-33d5-40c0-85c8-5d87c71309d6",
   "metadata": {},
   "outputs": [],
   "source": [
    "# Identify all race_ columns\n",
    "race_cols = [col for col in df.columns if col.startswith(\"race_\")]\n",
    "\n",
    "def determine_race(row):\n",
    "    # find which race columns are flagged with 1\n",
    "    races = [col for col in race_cols if row[col] == 1]\n",
    "    if len(races) == 1:\n",
    "        return races[0]   # keep full header name\n",
    "    elif len(races) > 1:\n",
    "        return \"more than one race\"\n",
    "    else:\n",
    "        return \"\"\n",
    "\n",
    "# create the new race column\n",
    "df[\"race\"] = df.apply(determine_race, axis=1)"
   ]
  },
  {
   "cell_type": "code",
   "execution_count": 4,
   "id": "a8840563-5c71-43b6-864a-c09e98aaeec0",
   "metadata": {},
   "outputs": [],
   "source": [
    "# Remove original race columns, e.g. race_american_indian, race_asian, race_black, race_pacific_islander, race_white, race_unknown\n",
    "\n",
    "cols_to_remove = [\n",
    "    \"race_american_indian\",\n",
    "    \"race_asian\",\n",
    "    \"race_black\",\n",
    "    \"race_pacific_islander\",\n",
    "    \"race_white\",\n",
    "    \"race_unknown\",\n",
    "]\n",
    "\n",
    "df = df.drop(columns=cols_to_remove)"
   ]
  },
  {
   "cell_type": "code",
   "execution_count": 5,
   "id": "ca77e244-95dd-4a80-a6af-8ae44e986997",
   "metadata": {},
   "outputs": [],
   "source": [
    "# Save transformed file\n",
    "df.to_csv('../data/DS-Connect-STUDY/raw_data/TSV_Preprocessed/dsc_demographics_preprocessed.tsv', index=False, sep='\\t')"
   ]
  },
  {
   "cell_type": "code",
   "execution_count": null,
   "id": "d2f2b9d9-66d6-4b40-a5b7-5b1a35d0ecfa",
   "metadata": {},
   "outputs": [],
   "source": []
  }
 ],
 "metadata": {
  "kernelspec": {
   "display_name": "Python (dm-bip)",
   "language": "python",
   "name": "dm-bip"
  },
  "language_info": {
   "codemirror_mode": {
    "name": "ipython",
    "version": 3
   },
   "file_extension": ".py",
   "mimetype": "text/x-python",
   "name": "python",
   "nbconvert_exporter": "python",
   "pygments_lexer": "ipython3",
   "version": "3.12.9"
  }
 },
 "nbformat": 4,
 "nbformat_minor": 5
}
