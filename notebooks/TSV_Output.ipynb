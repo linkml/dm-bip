{
 "cells": [
  {
   "cell_type": "code",
   "execution_count": null,
   "id": "46ece570-3dd4-4b27-8e9a-a68c5027b9d8",
   "metadata": {},
   "outputs": [],
   "source": [
    "import os, sys, time\n",
    "from contextlib import redirect_stdout, redirect_stderr\n",
    "from pathlib import Path\n",
    "from dm_bip.format_converter import updated_flatten_to_tsv"
   ]
  },
  {
   "cell_type": "code",
   "execution_count": null,
   "id": "08673a04-624c-403d-abd8-1b56faf66f99",
   "metadata": {},
   "outputs": [],
   "source": [
    "def run_entity(entity_name: str,\n",
    "               extra_input: str,\n",
    "               yaml_input: str,\n",
    "               tsv_output_dir: str):\n",
    "    \"\"\"Run the TSV converter for a single entity silently.\"\"\"\n",
    "    sys.argv = [\n",
    "        \"updated_flatten_to_tsv.py\",\n",
    "        \"--container-key\", entity_name.lower() + \"s\",\n",
    "        \"--container-class\", entity_name,\n",
    "        \"--mode\", \"per-class\",\n",
    "        \"--list-style\", \"join\",\n",
    "        extra_input,\n",
    "        yaml_input,\n",
    "        tsv_output_dir\n",
    "    ]\n",
    "    with open(os.devnull, \"w\") as fnull:\n",
    "        with redirect_stdout(fnull), redirect_stderr(fnull):\n",
    "            updated_flatten_to_tsv.main()"
   ]
  },
  {
   "cell_type": "code",
   "execution_count": null,
   "id": "94885d19-ae2b-4ea4-9b08-a03796278b72",
   "metadata": {},
   "outputs": [],
   "source": [
    "input_file = \"/sbgenomics/workspace/NHLBI-BDC-DMC-HM/src/bdchm/schema/bdchm.yaml\"\n",
    "output_dir = \"/sbgenomics/workspace/output/test/COPDGene-ingest/tsv_output/\"\n",
    "input_base = \"/sbgenomics/workspace/output/test/COPDGene-ingest\"\n",
    "\n",
    "entities = [\n",
    "    \"Condition\", \"Demography\", \"DrugExposure\", \"MeasurementObservation\",\n",
    "    \"Observation\", \"Participant\", \"Person\", \"Procedure\",\n",
    "    \"ResearchStudy\", \"SdohObservation\"\n",
    "]\n",
    "\n",
    "start = time.perf_counter()\n",
    "for e in entities:\n",
    "    yaml_file = f\"{input_base}/COPDGene-v6-c1-{e}-HMB-data.yaml\"\n",
    "    print(f\"Processing {e}...\")\n",
    "    run_entity(e, input_file, yaml_file, output_dir)\n",
    "\n",
    "print(\"All entities processed.\")\n",
    "\n",
    "end = time.perf_counter()\n",
    "print(f\"Time: {end - start:.2f} seconds\")"
   ]
  },
  {
   "cell_type": "code",
   "execution_count": null,
   "id": "9cdb3c50-387e-4e3d-a410-da55690c74d1",
   "metadata": {},
   "outputs": [],
   "source": []
  }
 ],
 "metadata": {
  "kernelspec": {
   "display_name": "Python (dm-bip)",
   "language": "python",
   "name": "dm-bip"
  },
  "language_info": {
   "codemirror_mode": {
    "name": "ipython",
    "version": 3
   },
   "file_extension": ".py",
   "mimetype": "text/x-python",
   "name": "python",
   "nbconvert_exporter": "python",
   "pygments_lexer": "ipython3",
   "version": "3.11.6"
  }
 },
 "nbformat": 4,
 "nbformat_minor": 5
}
