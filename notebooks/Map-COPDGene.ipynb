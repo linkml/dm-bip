{
 "cells": [
  {
   "cell_type": "code",
   "execution_count": 1,
   "id": "bf6739dc-7468-44b2-b00c-3ca089958005",
   "metadata": {},
   "outputs": [],
   "source": [
    "import yaml\n",
    "\n",
    "from linkml.validator.loaders import TsvLoader\n",
    "from linkml.utils.schema_builder import SchemaBuilder\n",
    "\n",
    "from linkml_runtime.linkml_model import SlotDefinition\n",
    "from linkml_runtime import SchemaView\n",
    "\n",
    "from linkml_map.session import Session\n",
    "from linkml_map.transformer.object_transformer import ObjectTransformer"
   ]
  },
  {
   "cell_type": "code",
   "execution_count": 23,
   "id": "22ef9c58-9bce-420c-9248-7c0f9a64ef9f",
   "metadata": {},
   "outputs": [],
   "source": [
    "# HMB Data set files\n",
    "# source_sv = SchemaView(\"/sbgenomics/project-files/COPDGene_HMB_Schema.yaml\")\n",
    "# data_loader = TsvLoader(\"/sbgenomics/project-files/phs000179.v6.pht002239.v4.p2.c1.COPDGene_Subject_Phenotypes.HMB_phv_clean.tsv\")\n",
    "# output_filename = \"transformed_person_data_HMB.yaml\"\n",
    "\n",
    "# DS_CS Data set files\n",
    "source_sv = SchemaView(\"/sbgenomics/project-files/COPDGene_DS_CS_Schema.yaml\")\n",
    "data_loader = TsvLoader(\"/sbgenomics/project-files/phs000179.v6.pht002239.v4.p2.c2.COPDGene_Subject_Phenotypes.DS-CS_phv_clean.tsv\")\n",
    "output_filename = \"transformed_person_data_DS_CS.yaml\"\n",
    "\n",
    "\n",
    "source_schema = source_sv.schema\n",
    "target_schema = SchemaView(\"NHLBI-BDC-DMC-HM/src/bdchm/schema/bdchm.yaml\").schema\n",
    "data_rows = data_loader.iter_instances()\n",
    "\n",
    "first_row = next(data_rows)\n",
    "cur_row = first_row\n",
    "\n",
    "var_dir = \"NHLBI-BDC-DMC-HV/priority_variables_transform/copdgene-linkml-map/var_files/\""
   ]
  },
  {
   "cell_type": "code",
   "execution_count": 3,
   "id": "84cd0c51-db7e-455b-8a76-0e650078f8ce",
   "metadata": {},
   "outputs": [],
   "source": [
    "# Person - top level class\n",
    "person_yaml = yaml.safe_load(\"\"\"\n",
    "class_derivations:\n",
    "  Person:\n",
    "    populated_from: COPDGene\n",
    "    slot_derivations:\n",
    "      species:\n",
    "        expr: \"'Homo Sapiens'\"\n",
    "      identity:\n",
    "        populated_from: dbGaP_Subject_ID\n",
    "\"\"\")\n",
    "\n",
    "# # Dump to YAML\n",
    "# with open(var_dir + \"person\" + \".yaml\", \"w\") as f:\n",
    "#     yaml.dump(person_yaml, f, sort_keys=False, allow_unicode=True)"
   ]
  },
  {
   "cell_type": "code",
   "execution_count": 4,
   "id": "86d2f07c-b3ff-4c79-afc4-cb4c14d566c9",
   "metadata": {},
   "outputs": [],
   "source": [
    "# Participant - top level class for study data\n",
    "participant_yaml = yaml.safe_load(\"\"\"\n",
    "class_derivations:\n",
    "  Participant:\n",
    "    populated_from: COPDGene\n",
    "    slot_derivations:\n",
    "      associated_participant: \n",
    "        populated_from: phv00159568\n",
    "      identity:\n",
    "        populated_from: dbGaP_Subject_ID\n",
    "      member_of_research_study:\n",
    "        expr: \"'COPDGene'\"\n",
    "      # originating_site:\n",
    "      #   populated_from: phv00159569\n",
    "      # study_arm:\n",
    "      #   populated_from: phv00278174\n",
    "\"\"\")\n",
    "\n",
    "# # Dump to YAML\n",
    "# with open(var_dir + \"participant\" + \".yaml\", \"w\") as f:\n",
    "#     yaml.dump(participant_yaml, f, sort_keys=False, allow_unicode=True)"
   ]
  },
  {
   "cell_type": "code",
   "execution_count": 5,
   "id": "8930fcd2-e946-456b-b50f-4daa8af5ac2e",
   "metadata": {},
   "outputs": [
    {
     "name": "stdout",
     "output_type": "stream",
     "text": [
      "Transformation Successful!\n"
     ]
    }
   ],
   "source": [
    "transform_spec = person_yaml\n",
    "\n",
    "input_data = cur_row\n",
    "\n",
    "# Create ObjectTransformer and apply transformation\n",
    "transformer = ObjectTransformer(unrestricted_eval=True)\n",
    "transformer.source_schemaview = SchemaView(source_schema)\n",
    "transformer.target_schemaview = SchemaView(target_schema)\n",
    "transformer.create_transformer_specification(transform_spec)\n",
    "\n",
    "result = transformer.map_object(input_data, source_type=\"COPDGene\")\n",
    "\n",
    "print(\"Transformation Successful!\")"
   ]
  },
  {
   "cell_type": "code",
   "execution_count": 6,
   "id": "875a70eb-fe22-4b65-b53e-f250ff391f07",
   "metadata": {},
   "outputs": [
    {
     "data": {
      "text/plain": [
       "[{'class_derivations': {'Participant': {'populated_from': 'COPDGene',\n",
       "    'slot_derivations': {'associated_participant': {'populated_from': 'phv00159568'},\n",
       "     'identity': {'populated_from': 'dbGaP_Subject_ID'},\n",
       "     'member_of_research_study': {'expr': \"'COPDGene'\"}}}}}]"
      ]
     },
     "execution_count": 6,
     "metadata": {},
     "output_type": "execute_result"
    }
   ],
   "source": [
    "# Get the participants slot\n",
    "person_class = person_yaml.setdefault(\"class_derivations\", {}).setdefault(\"Person\", {})\n",
    "person_participants_slot = person_class.setdefault(\"slot_derivations\", {}).setdefault(\"participants\", {})\n",
    "\n",
    "# Add the Participant object_derivation to the participants slot\n",
    "person_participants_slot.setdefault(\"object_derivations\", [ participant_yaml ])\n",
    "\n",
    "# print(yaml.dump(person_yaml, sort_keys=False))"
   ]
  },
  {
   "cell_type": "code",
   "execution_count": 7,
   "id": "209e7ddc-617e-4eee-b678-61ec490c1b11",
   "metadata": {},
   "outputs": [
    {
     "name": "stdout",
     "output_type": "stream",
     "text": [
      "{'species': 'Homo Sapiens', 'identity': [432557], 'participants': [{'associated_participant': 'COPDGene_G90453', 'identity': [432557], 'member_of_research_study': 'COPDGene'}]}\n",
      "Transformation Successful!\n"
     ]
    }
   ],
   "source": [
    "transform_spec = person_yaml\n",
    "\n",
    "input_data = cur_row\n",
    "\n",
    "# Create ObjectTransformer and apply transformation\n",
    "transformer = ObjectTransformer(unrestricted_eval=True)\n",
    "transformer.source_schemaview = SchemaView(source_schema)\n",
    "transformer.target_schemaview = SchemaView(target_schema)\n",
    "transformer.create_transformer_specification(transform_spec)\n",
    "\n",
    "result = transformer.map_object(input_data, source_type=\"COPDGene\")\n",
    "\n",
    "print(result)\n",
    "print(\"Transformation Successful!\")"
   ]
  },
  {
   "cell_type": "code",
   "execution_count": 8,
   "id": "8d01721d-7268-4c24-9231-2707f85ba6df",
   "metadata": {},
   "outputs": [
    {
     "data": {
      "text/plain": [
       "[{'class_derivations': {'Condition': {'populated_from': 'COPDGene',\n",
       "    'slot_derivations': {'associated_participant': {'populated_from': 'phv00159568'},\n",
       "     'condition_concept': {'expr': \"'HP:0001681'\"},\n",
       "     'condition_provenance': {'expr': \"'PATIENT_SELF-REPORTED_CONDITION'\"},\n",
       "     'relationship_to_participant': {'expr': \"'SELF'\"},\n",
       "     'condition_status': {'populated_from': 'phv00159608',\n",
       "      'value_mappings': {'0': 'ABSENT', '1': 'PRESENT'}}}}}},\n",
       " {'class_derivations': {'Condition': {'populated_from': 'COPDGene',\n",
       "    'slot_derivations': {'associated_participant': {'populated_from': 'phv00159568'},\n",
       "     'condition_concept': {'expr': \"'MONDO:0004979'\"},\n",
       "     'condition_status': {'expr': \"case( ({phv00159701} == 0, 'ABSENT'), ({phv00159701} == 1, case( ({phv00159705} == 0, 'HISTORICAL'), ({phv00159705} == 1, 'PRESENT'), ({phv00159705} == 3, case( ({phv00159704} == 3, 'UNKNOWN'), (True, 'HISTORICAL') )) )), ({phv00159701} == 3, case( ({phv00159705} == 0, case( ({phv00159704} == 1, 'HISTORICAL'), (True, 'ABSENT') )), ({phv00159705} == 1, 'PRESENT'), ({phv00159705} == 3, case( ({phv00159704} == 1, 'ABSENT'), (True, 'UNKNOWN') )) )) )\"},\n",
       "     'condition_provenance': {'expr': \"'PATIENT_SELF-REPORTED_CONDITION' if {phv00159701} == 0 else 'CLINICAL_DIAGNOSIS'\"},\n",
       "     'relationship_to_participant': {'expr': \"'SELF'\"},\n",
       "     'age_at_condition_start': {'expr': '{phv00159702} * 365'}}}}},\n",
       " {'class_derivations': {'Condition': {'populated_from': 'COPDGene',\n",
       "    'slot_derivations': {'condition_concept': {'expr': \"'MONDO:0005002'\"},\n",
       "     'condition_status': {'expr': \"case( ({phv00159731} == 0, 'ABSENT'), ({phv00159731} == 1, case( ({phv00159734} == 0, 'HISTORICAL'), ({phv00159734} == 1, 'PRESENT'), ({phv00159734} == 3, 'HISTORICAL') )), ({phv00159731} == 3, case( ({phv00159734} == 0, case( ({phv00159732} == 0, 'ABSENT'), ({phv00159732} == 1, 'HISTORICAL'), ({phv00159732} == 3, 'ABSENT') )), ({phv00159734} == 1, 'PRESENT'), ({phv00159734} == 3, case( ({phv00159732} == 1, 'UNKNOWN'), (True, 'UNKNOWN') )) )) )\"},\n",
       "     'condition_provenance': {'expr': \"case( ({phv00159732} == 0, 'PATIENT_SELF-REPORTED_CONDITION'), ({phv00159732} == 1, 'CLINICAL_DIAGNOSIS'), (True, 'PATIENT_SELF-REPORTED_CONDITION') )\"},\n",
       "     'relationship_to_participant': {'expr': \"'SELF'\"},\n",
       "     'age_at_condition_start': {'expr': '{phv00159733} * 365'}}}}},\n",
       " {'class_derivations': {'Condition': {'populated_from': 'COPDGene',\n",
       "    'slot_derivations': {'condition_concept': {'expr': \"'MONDO:0005015'\"},\n",
       "     'condition_status': {'populated_from': 'phv00159611',\n",
       "      'value_mappings': {'0': 'ABSENT', '1': 'PRESENT'}},\n",
       "     'condition_provenance': {'expr': \"'PATIENT_SELF-REPORTED_CONDITION'\"},\n",
       "     'relationship_to_participant': {'expr': \"'SELF'\"}}}}},\n",
       " {'class_derivations': {'Condition': {'populated_from': 'COPDGene',\n",
       "    'slot_derivations': {'condition_concept': {'expr': \"'MONDO:0005009'\"},\n",
       "     'condition_status': {'populated_from': 'phv00159609',\n",
       "      'value_mappings': {'0': 'ABSENT', '1': 'PRESENT'}},\n",
       "     'condition_provenance': {'expr': \"'PATIENT_SELF-REPORTED_CONDITION'\"},\n",
       "     'relationship_to_participant': {'expr': \"'SELF'\"}}}}},\n",
       " {'class_derivations': {'Condition': {'populated_from': 'COPDGene',\n",
       "    'slot_derivations': {'condition_concept': {'expr': \"'MONDO:0005068'\"},\n",
       "     'condition_status': {'populated_from': 'phv00159615',\n",
       "      'value_mappings': {'0': 'ABSENT', '1': 'HISTORY'}},\n",
       "     'condition_provenance': {'expr': \"'PATIENT_SELF-REPORTED_CONDITION'\"},\n",
       "     'relationship_to_participant': {'expr': \"'SELF'\"}}}}},\n",
       " {'class_derivations': {'Condition': {'populated_from': 'COPDGene',\n",
       "    'slot_derivations': {'condition_concept': {'expr': \"'HP:0000822'\"},\n",
       "     'condition_status': {'populated_from': 'phv00159612',\n",
       "      'value_mappings': {'0': 'ABSENT', '1': 'PRESENT'}},\n",
       "     'condition_provenance': {'expr': \"'PATIENT_SELF-REPORTED_CONDITION'\"},\n",
       "     'relationship_to_participant': {'expr': \"'SELF'\"}}}}},\n",
       " {'class_derivations': {'Condition': {'populated_from': 'COPDGene',\n",
       "    'slot_derivations': {'condition_concept': {'expr': \"'MONDO:0005294'\"},\n",
       "     'condition_status': {'populated_from': 'phv00159618',\n",
       "      'value_mappings': {'0': 'ABSENT', '1': 'PRESENT'}},\n",
       "     'condition_provenance': {'expr': \"'PATIENT_SELF-REPORTED_CONDITION'\"},\n",
       "     'relationship_to_participant': {'expr': \"'SELF'\"}}}}},\n",
       " {'class_derivations': {'Condition': {'populated_from': 'COPDGene',\n",
       "    'slot_derivations': {'condition_concept': {'expr': \"'HP:0010535'\"},\n",
       "     'condition_status': {'expr': \"case( ({phv00159736} == 0, 'ABSENT'), ({phv00159736} == 1, case( ({phv00159737} == 0, case( ({phv00159739} == 0, 'HISTORICAL'), ({phv00159739} == 1, 'PRESENT'), ({phv00159739} == 3, 'HISTORICAL') )), ({phv00159737} == 1, case( ({phv00159739} == 0, 'HISTORICAL'), ({phv00159739} == 1, 'PRESENT'), ({phv00159739} == 3, 'HISTORICAL') )) )), ({phv00159736} == 3, case( ({phv00159737} == 0, case( ({phv00159739} == 0, 'ABSENT'), ({phv00159739} == 1, 'PRESENT'), ({phv00159739} == 3, 'ABSENT') )), ({phv00159737} == 1, case( ({phv00159739} == 0, 'HISTORICAL'), ({phv00159739} == 1, 'PRESENT'), ({phv00159739} == 3, 'UNKNOWN') )) )) )\"},\n",
       "     'condition_provenance': {'expr': \"case( ({phv00159737} == 0, 'PATIENT_SELF-REPORTED_CONDITION'), ({phv00159737} == 1, 'CLINICAL_DIAGNOSIS'), (True, 'PATIENT_SELF-REPORTED_CONDITION') )\"},\n",
       "     'relationship_to_participant': {'expr': \"'SELF'\"},\n",
       "     'age_at_condition_start': {'expr': 'None'},\n",
       "     'age_at_condition_end': {'expr': 'None'}}}}},\n",
       " {'class_derivations': {'Condition': {'populated_from': 'COPDGene',\n",
       "    'slot_derivations': {'condition_concept': {'expr': \"'HP:0001297'\"},\n",
       "     'condition_status': {'populated_from': 'phv00159619',\n",
       "      'value_mappings': {'0': 'ABSENT', '1': 'PRESENT'}},\n",
       "     'condition_provenance': {'expr': \"'PATIENT_SELF-REPORTED_CONDITION'\"},\n",
       "     'relationship_to_participant': {'expr': \"'SELF'\"}}}}},\n",
       " {'class_derivations': {'Condition': {'populated_from': 'COPDGene',\n",
       "    'slot_derivations': {'condition_concept': {'expr': \"'MONDO:0005264'\"},\n",
       "     'condition_status': {'populated_from': 'phv00159620',\n",
       "      'value_mappings': {'0': 'ABSENT', '1': 'PRESENT'}},\n",
       "     'condition_provenance': {'expr': \"'PATIENT_SELF-REPORTED_CONDITION'\"},\n",
       "     'relationship_to_participant': {'expr': \"'SELF'\"}}}}}]"
      ]
     },
     "execution_count": 8,
     "metadata": {},
     "output_type": "execute_result"
    }
   ],
   "source": [
    "# Load Condition class derivations\n",
    "angina = yaml.safe_load(open(str(var_dir + \"condition/\" + \"angina\" + \".yaml\")))\n",
    "asthma = yaml.safe_load(open(str(var_dir + \"condition/\" + \"asthma\" + \".yaml\")))\n",
    "copd = yaml.safe_load(open(str(var_dir + \"condition/\" + \"copd\" + \".yaml\")))\n",
    "diabetes = yaml.safe_load(open(str(var_dir + \"condition/\" + \"diabetes\" + \".yaml\")))\n",
    "hist_hrt_failure = yaml.safe_load(open(str(var_dir + \"condition/\" + \"hist_hrt_failure\" + \".yaml\")))\n",
    "hist_my_inf = yaml.safe_load(open(str(var_dir + \"condition/\" + \"hist_my_inf\" + \".yaml\")))\n",
    "hyperten = yaml.safe_load(open(str(var_dir + \"condition/\" + \"hyperten\" + \".yaml\")))\n",
    "pad = yaml.safe_load(open(str(var_dir + \"condition/\" + \"pad\" + \".yaml\")))\n",
    "slp_ap = yaml.safe_load(open(str(var_dir + \"condition/\" + \"slp_ap\" + \".yaml\")))\n",
    "stroke = yaml.safe_load(open(str(var_dir + \"condition/\" + \"stroke\" + \".yaml\")))\n",
    "stroke_isch_atk = yaml.safe_load(open(str(var_dir + \"condition/\" + \"stroke_isch_atk\" + \".yaml\")))\n",
    "\n",
    "# Get the demography slot on Participants class\n",
    "participant_cls = participant_yaml.setdefault(\"class_derivations\", {}).setdefault(\"Participant\", {})\n",
    "participant_exposures_slot = participant_cls.setdefault(\"slot_derivations\", {}).setdefault(\"conditions\", {})\n",
    "\n",
    "# Add the Demography object_derivation to the demography slot\n",
    "participant_exposures_slot.setdefault(\"object_derivations\", [\n",
    "    angina,\n",
    "    asthma,\n",
    "    copd,\n",
    "    diabetes,\n",
    "    hist_hrt_failure,\n",
    "    hist_my_inf,\n",
    "    hyperten,\n",
    "    pad,\n",
    "    slp_ap,\n",
    "    stroke,\n",
    "    stroke_isch_atk,\n",
    "])"
   ]
  },
  {
   "cell_type": "code",
   "execution_count": 9,
   "id": "7a7015ab-d611-4c13-8cbf-dc2822def350",
   "metadata": {},
   "outputs": [],
   "source": [
    "demography_yaml = yaml.safe_load(\"\"\"\n",
    "class_derivations:\n",
    "  Demography:\n",
    "    populated_from: COPDGene\n",
    "    slot_derivations:\n",
    "      associated_participant:\n",
    "        populated_from: phv00159568\n",
    "      sex:\n",
    "        populated_from: phv00159571\n",
    "        value_mappings:\n",
    "          '1': OMOP:8507  # MALE\n",
    "          '2': OMOP:8532  # FEMALE\n",
    "      ethnicity:\n",
    "        populated_from: phv00159573\n",
    "        value_mappings:\n",
    "          '1': HISPANIC_OR_LATINO\n",
    "          '2': NOT_HISPANIC_OR_LATINO\n",
    "      race:\n",
    "        populated_from: phv00159572\n",
    "        value_mappings:\n",
    "          '1': OMOP:8527\n",
    "          '2': OMOP:8516\n",
    "          '3': OMOP:8515\n",
    "          '4': OMOP:8557\n",
    "          '5': OMOP:8657\n",
    "          '6': OMOP:45880900\n",
    "          '7': OMOP:8552\n",
    "\"\"\")\n",
    "\n",
    "# # Dump to YAML\n",
    "# with open(var_dir + \"demography\" + \".yaml\", \"w\") as f:\n",
    "#     yaml.dump(demography_yaml, f, sort_keys=False, allow_unicode=True)"
   ]
  },
  {
   "cell_type": "code",
   "execution_count": 10,
   "id": "eb0d3105-77d7-433b-a16a-5ddb36660e84",
   "metadata": {},
   "outputs": [
    {
     "data": {
      "text/plain": [
       "[{'class_derivations': {'Demography': {'populated_from': 'COPDGene',\n",
       "    'slot_derivations': {'associated_participant': {'populated_from': 'phv00159568'},\n",
       "     'sex': {'populated_from': 'phv00159571',\n",
       "      'value_mappings': {'1': 'OMOP:8507', '2': 'OMOP:8532'}},\n",
       "     'ethnicity': {'populated_from': 'phv00159573',\n",
       "      'value_mappings': {'1': 'HISPANIC_OR_LATINO',\n",
       "       '2': 'NOT_HISPANIC_OR_LATINO'}},\n",
       "     'race': {'populated_from': 'phv00159572',\n",
       "      'value_mappings': {'1': 'OMOP:8527',\n",
       "       '2': 'OMOP:8516',\n",
       "       '3': 'OMOP:8515',\n",
       "       '4': 'OMOP:8557',\n",
       "       '5': 'OMOP:8657',\n",
       "       '6': 'OMOP:45880900',\n",
       "       '7': 'OMOP:8552'}}}}}}]"
      ]
     },
     "execution_count": 10,
     "metadata": {},
     "output_type": "execute_result"
    }
   ],
   "source": [
    "# Get the demography slot on Participants class\n",
    "participant_cls = participant_yaml.setdefault(\"class_derivations\", {}).setdefault(\"Participant\", {})\n",
    "participant_demography_slot = participant_cls.setdefault(\"slot_derivations\", {}).setdefault(\"demography\", {})\n",
    "\n",
    "# Add the Demography object_derivation to the demography slot\n",
    "participant_demography_slot.setdefault(\"object_derivations\", [ demography_yaml ])"
   ]
  },
  {
   "cell_type": "code",
   "execution_count": 11,
   "id": "bed5ad67-f675-4164-ae89-ec6841e2d18b",
   "metadata": {},
   "outputs": [
    {
     "data": {
      "text/plain": [
       "[{'class_derivations': {'DrugExposure': {'populated_from': 'COPDGene',\n",
       "    'slot_derivations': {'associated_participant': {'populated_from': 'phv00159568'},\n",
       "     'drug_concept': {'expr': \"'RXNORM:C07A'\"},\n",
       "     'expsoure_provenance': {'expr': \"'PATIENT SELF-REPORTED MEDICATION'\"},\n",
       "     'exposure_status': {'populated_from': 'phv00159642',\n",
       "      'value_mappings': {'0': 'ABSENT', '1': 'PRESENT'}},\n",
       "     'route_concept': {'expr': \"'RESPIRATORY TRACT'\"}}}}},\n",
       " {'class_derivations': {'DrugExposure': {'populated_from': 'COPDGene',\n",
       "    'slot_derivations': {'associated_participant': {'populated_from': 'phv00159568'},\n",
       "     'drug_concept': {'expr': \"'RXNORM:C07A'\"},\n",
       "     'expsoure_provenance': {'expr': \"'PATIENT SELF-REPORTED MEDICATION'\"},\n",
       "     'exposure_status': {'populated_from': 'phv00159643',\n",
       "      'value_mappings': {'0': 'ABSENT', '1': 'PRESENT'}}}}}},\n",
       " {'class_derivations': {'DrugExposure': {'populated_from': 'COPDGene',\n",
       "    'slot_derivations': {'associated_participant': {'populated_from': 'phv00159568'},\n",
       "     'drug_concept': {'expr': \"'RXNORM:R03AL'\"},\n",
       "     'expsoure_provenance': {'expr': \"'PATIENT SELF-REPORTED MEDICATION'\"},\n",
       "     'exposure_status': {'populated_from': 'phv00159644',\n",
       "      'value_mappings': {'0': 'ABSENT', '1': 'PRESENT'}},\n",
       "     'route_concept': {'expr': \"'RESPIRATORY TRACT'\"}}}}},\n",
       " {'class_derivations': {'DrugExposure': {'populated_from': 'COPDGene',\n",
       "    'slot_derivations': {'associated_participant': {'populated_from': 'phv00159568'},\n",
       "     'drug_concept': {'expr': \"'RXNORM:H02A'\"},\n",
       "     'expsoure_provenance': {'expr': \"'PATIENT SELF-REPORTED MEDICATION'\"},\n",
       "     'exposure_status': {'populated_from': 'phv00159646',\n",
       "      'value_mappings': {'0': 'ABSENT', '1': 'PRESENT'}},\n",
       "     'route_concept': {'expr': \"'RESPIRATORY TRACT'\"}}}}},\n",
       " {'class_derivations': {'DrugExposure': {'populated_from': 'COPDGene',\n",
       "    'slot_derivations': {'associated_participant': {'populated_from': 'phv00159568'},\n",
       "     'drug_concept': {'expr': \"'RXNORM:H02A'\"},\n",
       "     'expsoure_provenance': {'expr': \"'PATIENT SELF-REPORTED MEDICATION'\"},\n",
       "     'exposure_status': {'populated_from': 'phv00159647',\n",
       "      'value_mappings': {'0': 'ABSENT', '1': 'PRESENT'}},\n",
       "     'route_concept': {'expr': \"'OMOP:4132161'\"}}}}},\n",
       " {'class_derivations': {'DrugExposure': {'populated_from': 'COPDGene',\n",
       "    'slot_derivations': {'associated_participant': {'populated_from': 'phv00159568'},\n",
       "     'drug_concept': {'expr': \"'RXNORM:A14A'\"},\n",
       "     'expsoure_provenance': {'expr': \"'PATIENT SELF-REPORTED MEDICATION'\"},\n",
       "     'exposure_status': {'populated_from': 'phv00159647',\n",
       "      'value_mappings': {'0': 'ABSENT', '1': 'PRESENT'}}}}}}]"
      ]
     },
     "execution_count": 11,
     "metadata": {},
     "output_type": "execute_result"
    }
   ],
   "source": [
    "# Load DrugExposure class derivations\n",
    "tak_betablk_resp = yaml.safe_load(open(str(var_dir + \"exposure/\" + \"tak_betablk_resp\" + \".yaml\")))\n",
    "tak_betablk = yaml.safe_load(open(str(var_dir + \"exposure/\" + \"tak_betablk\" + \".yaml\")))\n",
    "tak_adrenergics = yaml.safe_load(open(str(var_dir + \"exposure/\" + \"tak_adrenergics\" + \".yaml\")))\n",
    "tak_cort_steroid_resp = yaml.safe_load(open(str(var_dir + \"exposure/\" + \"tak_cort_steroid_resp\" + \".yaml\")))\n",
    "tak_cort_steroid_oral = yaml.safe_load(open(str(var_dir + \"exposure/\" + \"tak_cort_steroid_oral\" + \".yaml\")))\n",
    "tak_anabolic_steroid = yaml.safe_load(open(str(var_dir + \"exposure/\" + \"tak_anabolic_steroid\" + \".yaml\")))\n",
    "\n",
    "# Get the demography slot on Participants class\n",
    "participant_cls = participant_yaml.setdefault(\"class_derivations\", {}).setdefault(\"Participant\", {})\n",
    "participant_exposures_slot = participant_cls.setdefault(\"slot_derivations\", {}).setdefault(\"exposures\", {})\n",
    "\n",
    "# Add the Demography object_derivation to the demography slot\n",
    "participant_exposures_slot.setdefault(\"object_derivations\", [\n",
    "    tak_betablk_resp,\n",
    "    tak_betablk,\n",
    "    tak_adrenergics,\n",
    "    tak_cort_steroid_resp,\n",
    "    tak_cort_steroid_oral,\n",
    "    tak_anabolic_steroid,\n",
    "])"
   ]
  },
  {
   "cell_type": "code",
   "execution_count": 12,
   "id": "49e7c770-d698-4a11-aaa4-0b371e8ea8d1",
   "metadata": {},
   "outputs": [
    {
     "data": {
      "text/plain": [
       "[{'class_derivations': {'MeasurementObservation': {'populated_from': 'COPDGene',\n",
       "    'slot_derivations': {'associated_participant': {'populated_from': 'phv00159568'},\n",
       "     'observation_type': {'expr': \"'OBA:VT0001253'\"},\n",
       "     'value_quantity': {'object_derivations': [{'class_derivations': {'Quantity': {'populated_from': 'COPDGene',\n",
       "          'slot_derivations': {'value_decimal': {'populated_from': 'phv00159592'},\n",
       "           'unit': {'expr': \"'cm'\"}}}}}]}}}}},\n",
       " {'class_derivations': {'MeasurementObservation': {'populated_from': 'COPDGene',\n",
       "    'slot_derivations': {'associated_participant': {'populated_from': 'phv00159568'},\n",
       "     'observation_type': {'expr': \"'OBA:VT0001259'\"},\n",
       "     'value_quantity': {'object_derivations': [{'class_derivations': {'Quantity': {'populated_from': 'COPDGene',\n",
       "          'slot_derivations': {'value_decimal': {'populated_from': 'phv00159591'},\n",
       "           'unit': {'expr': \"'kg'\"}}}}}]}}}}},\n",
       " {'class_derivations': {'MeasurementObservation': {'populated_from': 'COPDGene',\n",
       "    'slot_derivations': {'associated_participant': {'populated_from': 'phv00159568'},\n",
       "     'observation_type': {'expr': \"'OBA:2045455'\"},\n",
       "     'value_quantity': {'object_derivations': [{'class_derivations': {'Quantity': {'populated_from': 'COPDGene',\n",
       "          'slot_derivations': {'value_decimal': {'populated_from': 'phv00159593'},\n",
       "           'unit': {'expr': \"'kg/m2'\"}}}}}]}}}}},\n",
       " {'class_derivations': {'MeasurementObservation': {'populated_from': 'COPDGene',\n",
       "    'slot_derivations': {'associated_participant': {'populated_from': 'phv00159568'},\n",
       "     'observation_type': {'expr': \"'OMOP:4154790'\"},\n",
       "     'value_quantity': {'object_derivations': [{'class_derivations': {'Quantity': {'populated_from': 'COPDGene',\n",
       "          'slot_derivations': {'value_decimal': {'populated_from': 'phv00159583'},\n",
       "           'unit': {'expr': \"'mm[Hg]'\"}}}}}]}}}}},\n",
       " {'class_derivations': {'MeasurementObservation': {'populated_from': 'COPDGene',\n",
       "    'slot_derivations': {'associated_participant': {'populated_from': 'phv00159568'},\n",
       "     'observation_type': {'expr': \"'OMOP:4152194'\"},\n",
       "     'value_quantity': {'object_derivations': [{'class_derivations': {'Quantity': {'populated_from': 'COPDGene',\n",
       "          'slot_derivations': {'value_decimal': {'populated_from': 'phv00159590'},\n",
       "           'unit': {'expr': \"'mm[Hg]'\"}}}}}]}}}}},\n",
       " {'class_derivations': {'MeasurementObservation': {'populated_from': 'COPDGene',\n",
       "    'slot_derivations': {'associated_participant': {'populated_from': 'phv00159568'},\n",
       "     'observation_type': {'expr': \"'OMOP:42418379'\"},\n",
       "     'value_quantity': {'object_derivations': [{'class_derivations': {'Quantity': {'populated_from': 'COPDGene',\n",
       "          'slot_derivations': {'value_decimal': {'populated_from': 'phv00159853'},\n",
       "           'unit': {'expr': \"'L'\"}}}}}]}}}}},\n",
       " {'class_derivations': {'MeasurementObservation': {'populated_from': 'COPDGene',\n",
       "    'slot_derivations': {'associated_participant': {'populated_from': 'phv00159568'},\n",
       "     'observation_type': {'expr': \"'OMOP:3011505'\"},\n",
       "     'value_quantity': {'object_derivations': [{'class_derivations': {'Quantity': {'populated_from': 'COPDGene',\n",
       "          'slot_derivations': {'value_decimal': {'populated_from': 'phv00159855'},\n",
       "           'unit': {'expr': \"'{ratio}'\"}}}}}]}}}}},\n",
       " {'class_derivations': {'MeasurementObservation': {'populated_from': 'COPDGene',\n",
       "    'slot_derivations': {'associated_participant': {'populated_from': 'phv00159568'},\n",
       "     'observation_type': {'expr': \"'OMOP:4176265'\"},\n",
       "     'value_quantity': {'object_derivations': [{'class_derivations': {'Quantity': {'populated_from': 'COPDGene',\n",
       "          'slot_derivations': {'value_decimal': {'populated_from': 'phv00159854'},\n",
       "           'unit': {'expr': \"'L'\"}}}}}]}}}}},\n",
       " {'class_derivations': {'MeasurementObservation': {'populated_from': 'COPDGene',\n",
       "    'slot_derivations': {'associated_participant': {'populated_from': 'phv00159568'},\n",
       "     'observation_type': {'expr': \"'OBA:1001087'\"},\n",
       "     'value_quantity': {'object_derivations': [{'class_derivations': {'Quantity': {'populated_from': 'COPDGene',\n",
       "          'slot_derivations': {'value_decimal': {'populated_from': 'phv00159584'},\n",
       "           'unit': {'expr': \"'{beats}/min'\"}}}}}]}}}}},\n",
       " {'class_derivations': {'MeasurementObservation': {'populated_from': 'COPDGene',\n",
       "    'slot_derivations': {'associated_participant': {'populated_from': 'phv00159568'},\n",
       "     'observation_type': {'expr': \"'OBA:2045443'\"},\n",
       "     'value_quantity': {'object_derivations': [{'class_derivations': {'Quantity': {'populated_from': 'COPDGene',\n",
       "          'slot_derivations': {'value_decimal': {'expr': '{phv00159589} * 100 if {phv00159589} <= 1 else {phv00159589}'},\n",
       "           'unit': {'expr': \"'%'\"}}}}}]}}}}}]"
      ]
     },
     "execution_count": 12,
     "metadata": {},
     "output_type": "execute_result"
    }
   ],
   "source": [
    "# Load MeasurementObservation class derivations\n",
    "bdy_hgt = yaml.safe_load(open(str(var_dir + \"measurement_observation/\" + \"bdy_hgt\" + \".yaml\")))\n",
    "bdy_wgt = yaml.safe_load(open(str(var_dir + \"measurement_observation/\" + \"bdy_wgt\" + \".yaml\")))\n",
    "bmi = yaml.safe_load(open(str(var_dir + \"measurement_observation/\" + \"bmi\" + \".yaml\")))\n",
    "bp_diastolic = yaml.safe_load(open(str(var_dir + \"measurement_observation/\" + \"bp_diastolic\" + \".yaml\")))\n",
    "bp_systolic = yaml.safe_load(open(str(var_dir + \"measurement_observation/\" + \"bp_systolic\" + \".yaml\")))\n",
    "fev1 = yaml.safe_load(open(str(var_dir + \"measurement_observation/\" + \"fev1\" + \".yaml\")))\n",
    "fev1_fvc = yaml.safe_load(open(str(var_dir + \"measurement_observation/\" + \"fev1_fvc\" + \".yaml\")))\n",
    "fvc = yaml.safe_load(open(str(var_dir + \"measurement_observation/\" + \"fvc\" + \".yaml\")))\n",
    "hrt_rt = yaml.safe_load(open(str(var_dir + \"measurement_observation/\" + \"hrt_rt\" + \".yaml\")))\n",
    "spo2 = yaml.safe_load(open(str(var_dir + \"measurement_observation/\" + \"spo2\" + \".yaml\")))\n",
    "\n",
    "# Get the demography slot on Participants class\n",
    "participant_cls = participant_yaml.setdefault(\"class_derivations\", {}).setdefault(\"Participant\", {})\n",
    "participant_exposures_slot = participant_cls.setdefault(\"slot_derivations\", {}).setdefault(\"measurements\", {})\n",
    "\n",
    "# Add the Demography object_derivation to the demography slot\n",
    "participant_exposures_slot.setdefault(\"object_derivations\", [\n",
    "    bdy_hgt,\n",
    "    bdy_wgt,\n",
    "    bmi,\n",
    "    bp_diastolic,\n",
    "    bp_systolic,\n",
    "    fev1,\n",
    "    fev1_fvc,\n",
    "    fvc,\n",
    "    hrt_rt,\n",
    "    spo2\n",
    "])"
   ]
  },
  {
   "cell_type": "code",
   "execution_count": 13,
   "id": "a0dd1d49-f23d-4992-a0bd-f93241a510b8",
   "metadata": {},
   "outputs": [],
   "source": [
    "observation_yaml = yaml.safe_load(\"\"\"\n",
    "class_derivations:\n",
    "  Observation:\n",
    "    populated_from: COPDGene\n",
    "    slot_derivations:\n",
    "      associated_participant:\n",
    "        populated_from: phv00159568\n",
    "      observation_type:\n",
    "        expr: \"'OMOP:4282779'\"  # Cigarette smoking status\n",
    "      value_enum:\n",
    "        expr: \"'OMOP:40766945' if {phv00159749} == 1 else 'OMOP:45883458' if {phv00159747} == 1 else 'OMOP:45883537'\"\n",
    "\"\"\")\n",
    "\n",
    "# # Dump to YAML\n",
    "# with open(var_dir + \"observation\" + \".yaml\", \"w\") as f:\n",
    "#     yaml.dump(observation_yaml, f, sort_keys=False, allow_unicode=True)"
   ]
  },
  {
   "cell_type": "code",
   "execution_count": 14,
   "id": "b81ae05d-a027-447a-9e3c-216ed11e308e",
   "metadata": {},
   "outputs": [
    {
     "data": {
      "text/plain": [
       "[{'class_derivations': {'Observation': {'populated_from': 'COPDGene',\n",
       "    'slot_derivations': {'associated_participant': {'populated_from': 'phv00159568'},\n",
       "     'observation_type': {'expr': \"'OMOP:4282779'\"},\n",
       "     'value_enum': {'expr': \"'OMOP:40766945' if {phv00159749} == 1 else 'OMOP:45883458' if {phv00159747} == 1 else 'OMOP:45883537'\"}}}}}]"
      ]
     },
     "execution_count": 14,
     "metadata": {},
     "output_type": "execute_result"
    }
   ],
   "source": [
    "# Get the observations slot on Participants class\n",
    "participant_cls = participant_yaml.setdefault(\"class_derivations\", {}).setdefault(\"Participant\", {})\n",
    "participant_observations_slot = participant_cls.setdefault(\"slot_derivations\", {}).setdefault(\"observations\", {})\n",
    "\n",
    "# Add the Demography object_derivation to the demography slot\n",
    "participant_observations_slot.setdefault(\"object_derivations\", [ observation_yaml ])\n",
    "\n",
    "# print(yaml.dump(person_yaml))"
   ]
  },
  {
   "cell_type": "code",
   "execution_count": 15,
   "id": "d3705b06-a868-411d-91fe-273c2590a378",
   "metadata": {},
   "outputs": [],
   "source": [
    "# hist_cor_angio\n",
    "hist_cor_angio = yaml.safe_load(\"\"\"\n",
    "class_derivations:\n",
    "  Procedure:\n",
    "    populated_from: COPDGene\n",
    "    slot_derivations:\n",
    "      associated_participant:\n",
    "        populated_from: phv00159568\n",
    "      procedure_concept:\n",
    "        expr: \"'OMOP:4184832'\"  # Coronary angioplasty\n",
    "      procedure_status:\n",
    "        populated_from: phv00159632\n",
    "        value_mappings:\n",
    "          '0': ABSENT\n",
    "          '1': PRESENT\n",
    "\"\"\")\n",
    "\n",
    "# # Dump to YAML\n",
    "# with open(var_dir + \"procedure/\" + \"hist_cor_angio\" + \".yaml\", \"w\") as f:\n",
    "#     yaml.dump(hist_cor_angio, f, sort_keys=False, allow_unicode=True)"
   ]
  },
  {
   "cell_type": "code",
   "execution_count": 16,
   "id": "f881446b-f8a6-4948-a740-8f4c32f6052a",
   "metadata": {},
   "outputs": [
    {
     "name": "stdout",
     "output_type": "stream",
     "text": [
      "{'associated_participant': 'COPDGene_G90453', 'procedure_concept': 'OMOP:4184832', 'procedure_status': 'PRESENT'}\n",
      "Transformation Successful!\n"
     ]
    }
   ],
   "source": [
    "transform_spec = hist_cor_angio\n",
    "\n",
    "input_data = cur_row\n",
    "\n",
    "# Create ObjectTransformer and apply transformation\n",
    "transformer = ObjectTransformer(unrestricted_eval=True)\n",
    "transformer.source_schemaview = SchemaView(source_schema)\n",
    "transformer.target_schemaview = SchemaView(target_schema)\n",
    "transformer.create_transformer_specification(transform_spec)\n",
    "\n",
    "result = transformer.map_object(input_data, source_type=\"COPDGene\")\n",
    "\n",
    "print(result)\n",
    "print(\"Transformation Successful!\")"
   ]
  },
  {
   "cell_type": "code",
   "execution_count": 17,
   "id": "cabe767f-d4c7-4c5a-8a24-31b846b744b1",
   "metadata": {},
   "outputs": [],
   "source": [
    "# hist_cor_bypg\n",
    "hist_cor_bypg = yaml.safe_load(\"\"\"\n",
    "class_derivations:\n",
    "  Procedure:\n",
    "    populated_from: COPDGene\n",
    "    slot_derivations:\n",
    "      associated_participant:\n",
    "        populated_from: phv00159568\n",
    "      procedure_concept:\n",
    "        expr: \"'OMOP:4336464'\"  #coronary bypass graft\n",
    "      procedure_status:\n",
    "        populated_from: phv00159631\n",
    "        value_mappings:\n",
    "          '0': ABSENT\n",
    "          '1': PRESENT\n",
    "\"\"\")\n",
    "\n",
    "# # Dump to YAML\n",
    "# with open(var_dir + \"procedure/\" + \"hist_cor_bypg\" + \".yaml\", \"w\") as f:\n",
    "#     yaml.dump(hist_cor_bypg, f, sort_keys=False, allow_unicode=True)"
   ]
  },
  {
   "cell_type": "code",
   "execution_count": 18,
   "id": "e05f167b-0aa3-4838-93fd-d7c1647f8d0b",
   "metadata": {},
   "outputs": [
    {
     "data": {
      "text/plain": [
       "[{'class_derivations': {'Procedure': {'populated_from': 'COPDGene',\n",
       "    'slot_derivations': {'associated_participant': {'populated_from': 'phv00159568'},\n",
       "     'procedure_concept': {'expr': \"'OMOP:4184832'\"},\n",
       "     'procedure_status': {'populated_from': 'phv00159632',\n",
       "      'value_mappings': {'0': 'ABSENT', '1': 'PRESENT'}}}}}},\n",
       " {'class_derivations': {'Procedure': {'populated_from': 'COPDGene',\n",
       "    'slot_derivations': {'associated_participant': {'populated_from': 'phv00159568'},\n",
       "     'procedure_concept': {'expr': \"'OMOP:4336464'\"},\n",
       "     'procedure_status': {'populated_from': 'phv00159631',\n",
       "      'value_mappings': {'0': 'ABSENT', '1': 'PRESENT'}}}}}}]"
      ]
     },
     "execution_count": 18,
     "metadata": {},
     "output_type": "execute_result"
    }
   ],
   "source": [
    "# Get the observations slot on Participants class\n",
    "participant_cls = participant_yaml.setdefault(\"class_derivations\", {}).setdefault(\"Participant\", {})\n",
    "participant_procedures_slot = participant_cls.setdefault(\"slot_derivations\", {}).setdefault(\"procedures\", {})\n",
    "\n",
    "# Add the Demography object_derivation to the demography slot\n",
    "participant_procedures_slot.setdefault(\"object_derivations\", [ hist_cor_angio, hist_cor_bypg ])"
   ]
  },
  {
   "cell_type": "code",
   "execution_count": 19,
   "id": "94f40868-b270-4ceb-95d3-69e8d998d950",
   "metadata": {},
   "outputs": [],
   "source": [
    "# edu_lvl\n",
    "edu_lvl = yaml.safe_load(\"\"\"\n",
    "class_derivations:\n",
    "  SdohObservation:\n",
    "    populated_from: COPDGene\n",
    "    slot_derivations:\n",
    "      associated_participant:\n",
    "        populated_from: phv00159568\n",
    "      category:\n",
    "        expr: \"'EDUCATIONAL_ATTAINMENT'\"\n",
    "      value_enum:\n",
    "        populated_from: phv00159773\n",
    "        value_mappings:\n",
    "          '1': 8TH_GRADE_OR_LESS\n",
    "          '2': HIGH_SCHOOL_NO_DIPLOMA\n",
    "          '3': HIGH_SCHOOL_GRADUATE_GED\n",
    "          '4': SOME_COLLEGE_OR_TECH_NO_DEGREE\n",
    "          '5': COLLEGE_OR_TECH_WITH_DEGREE\n",
    "          '6': MASTERS_OR_DOCTORAL_DEGREE\n",
    "\"\"\")\n",
    "\n",
    "# Dump to YAML\n",
    "with open(var_dir + \"sdoh_observation/\" + \"edu_lvl\" + \".yaml\", \"w\") as f:\n",
    "    yaml.dump(edu_lvl, f, sort_keys=False, allow_unicode=True)"
   ]
  },
  {
   "cell_type": "code",
   "execution_count": 20,
   "id": "5ee7fba1-14a5-4250-8a7f-fe8fb5859d2f",
   "metadata": {},
   "outputs": [
    {
     "data": {
      "text/plain": [
       "[{'class_derivations': {'SdohObservation': {'populated_from': 'COPDGene',\n",
       "    'slot_derivations': {'associated_participant': {'populated_from': 'phv00159568'},\n",
       "     'category': {'expr': \"'EDUCATIONAL_ATTAINMENT'\"},\n",
       "     'value_enum': {'populated_from': 'phv00159773',\n",
       "      'value_mappings': {'1': '8TH_GRADE_OR_LESS',\n",
       "       '2': 'HIGH_SCHOOL_NO_DIPLOMA',\n",
       "       '3': 'HIGH_SCHOOL_GRADUATE_GED',\n",
       "       '4': 'SOME_COLLEGE_OR_TECH_NO_DEGREE',\n",
       "       '5': 'COLLEGE_OR_TECH_WITH_DEGREE',\n",
       "       '6': 'MASTERS_OR_DOCTORAL_DEGREE'}}}}}}]"
      ]
     },
     "execution_count": 20,
     "metadata": {},
     "output_type": "execute_result"
    }
   ],
   "source": [
    "# Get the observations slot on Participants class\n",
    "participant_cls = participant_yaml.setdefault(\"class_derivations\", {}).setdefault(\"Participant\", {})\n",
    "participant_sdoh_observations_slot = participant_cls.setdefault(\"slot_derivations\", {}).setdefault(\"sdoh_observations\", {})\n",
    "\n",
    "# Add the Demography object_derivation to the demography slot\n",
    "participant_sdoh_observations_slot.setdefault(\"object_derivations\", [ edu_lvl ])"
   ]
  },
  {
   "cell_type": "code",
   "execution_count": 24,
   "id": "6070261a-440a-40ec-ad40-143c4cf59208",
   "metadata": {},
   "outputs": [
    {
     "name": "stdout",
     "output_type": "stream",
     "text": [
      "Transformation Successful!\n"
     ]
    }
   ],
   "source": [
    "transform_spec = person_yaml\n",
    "\n",
    "input_data = cur_row\n",
    "\n",
    "# Create ObjectTransformer and apply transformation\n",
    "transformer = ObjectTransformer(unrestricted_eval=True)\n",
    "transformer.source_schemaview = SchemaView(source_schema)\n",
    "transformer.target_schemaview = SchemaView(target_schema)\n",
    "transformer.create_transformer_specification(transform_spec)\n",
    "\n",
    "# Transform all rows\n",
    "output_data = []\n",
    "for row in data_rows:\n",
    "    result = transformer.map_object(row, source_type=\"COPDGene\")\n",
    "    if result:  # Avoid None or empty dicts\n",
    "        output_data.append(result)\n",
    "\n",
    "# Final wrapped structure (key should match the collection slot, or be schema-compatible)\n",
    "wrapped_output = {\n",
    "    \"persons\": output_data\n",
    "}\n",
    "\n",
    "# Dump to YAML\n",
    "with open(output_filename, \"w\") as f:\n",
    "    yaml.dump(wrapped_output, f, sort_keys=False, allow_unicode=True)\n",
    "\n",
    "print(\"Transformation Successful!\")"
   ]
  },
  {
   "cell_type": "code",
   "execution_count": 22,
   "id": "2751e283-9235-4423-b15e-d1922c612dfb",
   "metadata": {},
   "outputs": [],
   "source": [
    "# Dump final Person class to YAML\n",
    "with open(var_dir + \"../person\" + \".yaml\", \"w\") as f:\n",
    "    yaml.dump(person_yaml, f, sort_keys=False, allow_unicode=True)"
   ]
  }
 ],
 "metadata": {
  "kernelspec": {
   "display_name": "Python (dm-bip)",
   "language": "python",
   "name": "dm-bip"
  },
  "language_info": {
   "codemirror_mode": {
    "name": "ipython",
    "version": 3
   },
   "file_extension": ".py",
   "mimetype": "text/x-python",
   "name": "python",
   "nbconvert_exporter": "python",
   "pygments_lexer": "ipython3",
   "version": "3.11.6"
  }
 },
 "nbformat": 4,
 "nbformat_minor": 5
}
