{
 "cells": [
  {
   "cell_type": "code",
   "execution_count": null,
   "id": "87cc72e4",
   "metadata": {},
   "outputs": [],
   "source": [
    "import yaml\n",
    "\n",
    "from linkml.utils.schema_builder import SchemaBuilder\n",
    "from linkml_runtime.linkml_model import SlotDefinition\n"
   ]
  },
  {
   "cell_type": "code",
   "execution_count": null,
   "id": "4697b367",
   "metadata": {},
   "outputs": [],
   "source": [
    "sb = SchemaBuilder()\n",
    "sb.add_class(\"Person\", slots=[SlotDefinition(\"family_name\", range=\"string\"), \n",
    "                              SlotDefinition(\"given_name\", range=\"string\"),\n",
    "                              SlotDefinition(\"age_in_years\", range=\"integer\"),\n",
    "                              SlotDefinition(\"height_in_cm\", range=\"float\"),\n",
    "                              ])\n",
    "sb.add_defaults()\n",
    "print(yaml.dump(sb.as_dict(), sort_keys=False))\n"
   ]
  },
  {
   "cell_type": "code",
   "execution_count": null,
   "id": "48f6ae45-3e2a-40ba-a856-325bedc35160",
   "metadata": {},
   "outputs": [],
   "source": [
    "from linkml_map.session import Session\n",
    "\n",
    "session = Session()\n",
    "session.set_source_schema(sb.as_dict())"
   ]
  },
  {
   "cell_type": "code",
   "execution_count": null,
   "id": "6eac010c-4499-41d3-8688-7806a031f9ad",
   "metadata": {},
   "outputs": [],
   "source": [
    "# Transformer specification (in YAML)\n",
    "session.set_object_transformer(\"\"\"\n",
    "class_derivations:\n",
    "  Individual:\n",
    "    populated_from: Person\n",
    "    slot_derivations:\n",
    "      family_name:\n",
    "        populated_from: family_name\n",
    "      given_name:\n",
    "        populated_from: given_name\n",
    "      age:\n",
    "        populated_from: age_in_years\n",
    "      height:\n",
    "        populated_from: height_in_cm\n",
    "\"\"\")\n",
    "\n",
    "obj = {\n",
    "        \"given_name\": \"Jane\",\n",
    "        \"family_name\": \"Doe\",\n",
    "        \"age_in_years\": 42,\n",
    "        \"height_in_cm\": 180.0,\n",
    "    }\n",
    "session.transform(obj)"
   ]
  },
  {
   "cell_type": "code",
   "execution_count": null,
   "id": "b53e715a-bda6-46be-85be-6d8af4198cd3",
   "metadata": {},
   "outputs": [],
   "source": [
    "from linkml_runtime.dumpers import yaml_dumper\n",
    "\n",
    "print(yaml_dumper.dumps(session.target_schema))"
   ]
  },
  {
   "cell_type": "code",
   "execution_count": null,
   "id": "71a71a18-cde4-4538-9626-68a4f37169e8",
   "metadata": {},
   "outputs": [],
   "source": [
    "session.set_object_transformer(\"\"\"\n",
    "class_derivations:\n",
    "  Individual:\n",
    "    populated_from: Person\n",
    "    slot_derivations:\n",
    "      name:\n",
    "        expr: \"{given_name} + ' ' + {family_name}\"\n",
    "        description: Concatenating given and family names\n",
    "          note this is a bad assumption for names in general,\n",
    "          this is just for demonstration\n",
    "      age_in_months:\n",
    "        expr: age_in_years * 12\n",
    "      height_in_meters:\n",
    "        expr: height_in_cm / 100\n",
    "\"\"\")\n",
    "\n",
    "session.transform(obj)"
   ]
  },
  {
   "cell_type": "code",
   "execution_count": null,
   "id": "affd9106-a4c9-40aa-83b5-77714e187832",
   "metadata": {},
   "outputs": [],
   "source": [
    "print(yaml_dumper.dumps(session.transform(obj)))"
   ]
  },
  {
   "cell_type": "code",
   "execution_count": null,
   "id": "4a436e4c-3056-42a4-99d8-e86e4b3e80b3",
   "metadata": {},
   "outputs": [],
   "source": []
  }
 ],
 "metadata": {
  "kernelspec": {
   "display_name": "Python 3 (ipykernel)",
   "language": "python",
   "name": "python3"
  },
  "language_info": {
   "codemirror_mode": {
    "name": "ipython",
    "version": 3
   },
   "file_extension": ".py",
   "mimetype": "text/x-python",
   "name": "python",
   "nbconvert_exporter": "python",
   "pygments_lexer": "ipython3",
   "version": "3.12.3"
  }
 },
 "nbformat": 4,
 "nbformat_minor": 5
}
