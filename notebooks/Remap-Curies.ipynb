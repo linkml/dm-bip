{
 "cells": [
  {
   "cell_type": "code",
   "execution_count": null,
   "id": "9c4147e8-afa1-4254-b455-3ba25edecc0f",
   "metadata": {},
   "outputs": [],
   "source": [
    "base_dir = \"/sbgenomics/workspace/\"\n",
    "curie_map = \"BDCHM_Curie_Remap.tsv\"\n",
    "\n",
    "# input_dir = \"/sbgenomics/output-files/TSV_output/COPDGene-v6-c1/\"\n",
    "# output_dir = \"/sbgenomics/output-files/TSV_output/COPDGene-v6-c1-remapped/\"\n",
    "# ext = \"tsv\"\n",
    "\n",
    "# input_dir = \"/sbgenomics/output-files/TSV_output/CARDIA-v3-c1/\"\n",
    "# output_dir = \"/sbgenomics/output-files/TSV_output/CARDIA-v3-c1-remapped/\"\n",
    "# ext = \"tsv\"\n",
    "\n",
    "# input_dir = \"/sbgenomics/output-files/TSV_output/CHS-v7-c1/\"\n",
    "# output_dir = \"/sbgenomics/output-files/TSV_output/CHS-v7-c1-remapped/\"\n",
    "# ext = \"tsv\"\n",
    "\n",
    "# input_dir = \"/sbgenomics/output-files/TSV_output/FHS-v31-c1/\"\n",
    "# output_dir = \"/sbgenomics/output-files/TSV_output/FHS-v31-c1-remapped/\"\n",
    "# ext = \"tsv\"\n",
    "\n",
    "input_dir = \"/sbgenomics/output-files/TSV_output/HCHS-SOL-v1-c1\"\n",
    "output_dir = \"/sbgenomics/output-files/TSV_output/HCHS-SOL-v1-c1-remapped/\"\n",
    "ext = \"tsv\""
   ]
  },
  {
   "cell_type": "code",
   "execution_count": null,
   "id": "73850362-91ec-4f42-aa93-f4a2073da2e3",
   "metadata": {},
   "outputs": [],
   "source": [
    "%%bash -s \"$base_dir\" \"BDCHM Variable Mapping - CURIE Lookup.tsv\" \"$curie_map\"\n",
    "# --- Extract mapping columns from the CURIE lookup spreadsheet ---\n",
    "tr -d '\\r' < \"$1/$2\" > \"$1/$2.tmp\"\n",
    "mv \"$1/$2.tmp\" \"$1/$2\"\n",
    "cut -f2,5 \"$1/$2\" > \"$1/$3\""
   ]
  },
  {
   "cell_type": "code",
   "execution_count": null,
   "id": "9083bb81-9ebb-485a-8758-2d3cec0b8aee",
   "metadata": {},
   "outputs": [],
   "source": [
    "%%bash -s \"$base_dir/$curie_map\" \"$input_dir\" \"$output_dir\" \"$ext\"\n",
    "# --- Remap all TSV file CURIEs the input directory to output directory---\n",
    "mkdir -p \"$3\"\n",
    "for f in \"$2\"/*.\"$4\"; do\n",
    "  # $1..$4 are bash args; inside awk $1/$2 are awk fields (not bash $1/$2)\n",
    "  awk 'FNR==NR{map[$1]=$2; next} {for(k in map) gsub(k,map[k]); print}' \"$1\" \"$f\" > \"$3/$(basename \"$f\")\"\n",
    "done"
   ]
  },
  {
   "cell_type": "code",
   "execution_count": null,
   "id": "257b3c4a-a18d-46e5-aed9-f4bf2ceb4616",
   "metadata": {},
   "outputs": [],
   "source": [
    "# --- List unique CURIEs in output files ---\n",
    "!grep -rh -oE '\\b[A-Z][A-Za-z0-9]*:[A-Za-z0-9]+\\b' \"$output_dir\" | sort -u"
   ]
  },
  {
   "cell_type": "code",
   "execution_count": null,
   "id": "98a98800-c795-46e8-8ca2-b2bf55806771",
   "metadata": {},
   "outputs": [],
   "source": [
    "%%bash -s \"$output_dir\"\n",
    "# --- Validation: confirm all CURIEs have been remapped ---\n",
    "curies=$(grep -rh -oE '\\b[A-Z][A-Za-z0-9]*:[A-Za-z0-9]+\\b' \"$1\" | sort -u)\n",
    "\n",
    "if [ -z \"$curies\" ]; then\n",
    "    echo \"All CURIEs successfully remapped.\"\n",
    "else\n",
    "    echo \"Some CURIEs remain in the output files:\"\n",
    "    grep -rE -l '\\b[A-Z][A-Za-z0-9]*:[A-Za-z0-9]+\\b' \"$1\"\n",
    "    echo \"$curies\"\n",
    "fi\n"
   ]
  },
  {
   "cell_type": "code",
   "execution_count": null,
   "id": "92edc8e8-0579-48a0-aa40-d1f8622222e6",
   "metadata": {},
   "outputs": [],
   "source": []
  }
 ],
 "metadata": {
  "kernelspec": {
   "display_name": "Python (dm-bip)",
   "language": "python",
   "name": "dm-bip"
  },
  "language_info": {
   "codemirror_mode": {
    "name": "ipython",
    "version": 3
   },
   "file_extension": ".py",
   "mimetype": "text/x-python",
   "name": "python",
   "nbconvert_exporter": "python",
   "pygments_lexer": "ipython3",
   "version": "3.11.6"
  }
 },
 "nbformat": 4,
 "nbformat_minor": 5
}
