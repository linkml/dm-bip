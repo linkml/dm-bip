{
 "cells": [
  {
   "cell_type": "code",
   "execution_count": 1,
   "id": "9c4147e8-afa1-4254-b455-3ba25edecc0f",
   "metadata": {},
   "outputs": [],
   "source": [
    "curie_map = \"/sbgenomics/workspace/BDCHM_Curie_Remap.tsv\"\n",
    "base_dir = \"/sbgenomics/workspace/output/test/COPDGene-ingest/tsv_output\""
   ]
  },
  {
   "cell_type": "code",
   "execution_count": 2,
   "id": "12d3a975-39dc-4ae2-8eb9-751bc7eb454c",
   "metadata": {},
   "outputs": [],
   "source": [
    "%%bash -s \"$curie_map\" \"$base_dir\" \"Condition\"\n",
    "awk 'BEGIN{FS=OFS=\"\\t\"} FNR==NR {map[$1]=$2; next} {for(i=1;i<=NF;i++) if($i in map) $i=map[$i]; print}' \\\n",
    "    \"$1\" \"$2/$3.tsv\" > \"$2/${3}_remapped.tsv\""
   ]
  },
  {
   "cell_type": "code",
   "execution_count": 3,
   "id": "5a185c28-a61d-40f4-a44d-7633aadfe237",
   "metadata": {},
   "outputs": [],
   "source": [
    "!grep -oE '\\b[A-Z][A-Za-z0-9]*:[A-Za-z0-9]+\\b' /sbgenomics/workspace/output/test/COPDGene-ingest/tsv_output/Condition_remapped.tsv | sort -u | head"
   ]
  },
  {
   "cell_type": "code",
   "execution_count": 4,
   "id": "2f9e1072-610a-4df5-b24c-7f1ca54fb8ec",
   "metadata": {},
   "outputs": [],
   "source": [
    "%%bash -s \"$curie_map\" \"$base_dir\" \"Demography\"\n",
    "awk 'BEGIN{FS=OFS=\"\\t\"} FNR==NR {map[$1]=$2; next} {for(i=1;i<=NF;i++) if($i in map) $i=map[$i]; print}' \\\n",
    "    \"$1\" \"$2/$3.tsv\" > \"$2/${3}_remapped.tsv\""
   ]
  },
  {
   "cell_type": "code",
   "execution_count": 5,
   "id": "bec0aa96-5648-472b-9c55-76180cebea13",
   "metadata": {},
   "outputs": [
    {
     "name": "stdout",
     "output_type": "stream",
     "text": [
      "OMOP:8507\n",
      "OMOP:8516\n",
      "OMOP:8527\n",
      "OMOP:8532\n"
     ]
    }
   ],
   "source": [
    "!grep -oE '\\b[A-Z][A-Za-z0-9]*:[A-Za-z0-9]+\\b' /sbgenomics/workspace/output/test/COPDGene-ingest/tsv_output/Demography_remapped.tsv | sort -u | head"
   ]
  },
  {
   "cell_type": "code",
   "execution_count": 6,
   "id": "8e6fe21f-19b6-4805-a070-a431f3899536",
   "metadata": {},
   "outputs": [],
   "source": [
    "%%bash -s \"$curie_map\" \"$base_dir\" \"DrugExposure\"\n",
    "awk 'BEGIN{FS=OFS=\"\\t\"} FNR==NR {map[$1]=$2; next} {for(i=1;i<=NF;i++) if($i in map) $i=map[$i]; print}' \\\n",
    "    \"$1\" \"$2/$3.tsv\" > \"$2/${3}_remapped.tsv\""
   ]
  },
  {
   "cell_type": "code",
   "execution_count": 7,
   "id": "9cba01f6-dac7-445a-8444-b681bd4f4e6a",
   "metadata": {},
   "outputs": [
    {
     "name": "stdout",
     "output_type": "stream",
     "text": [
      "OMOP:4132161\n",
      "RXNORM:A14A\n",
      "RXNORM:C07A\n",
      "RXNORM:H02A\n",
      "RXNORM:R03AL\n"
     ]
    }
   ],
   "source": [
    "!grep -oE '\\b[A-Z][A-Za-z0-9]*:[A-Za-z0-9]+\\b' /sbgenomics/workspace/output/test/COPDGene-ingest/tsv_output/DrugExposure_remapped.tsv | sort -u | head"
   ]
  },
  {
   "cell_type": "code",
   "execution_count": 8,
   "id": "f94b2362-964c-43cf-8c03-36b14e0fc805",
   "metadata": {},
   "outputs": [],
   "source": [
    "%%bash -s \"$curie_map\" \"$base_dir\" \"MeasurementObservation\"\n",
    "awk 'BEGIN{FS=OFS=\"\\t\"} FNR==NR {map[$1]=$2; next} {for(i=1;i<=NF;i++) if($i in map) $i=map[$i]; print}' \\\n",
    "    \"$1\" \"$2/$3.tsv\" > \"$2/${3}_remapped.tsv\""
   ]
  },
  {
   "cell_type": "code",
   "execution_count": 9,
   "id": "6854f209-7353-4778-9d32-9cb1cba1bdee",
   "metadata": {},
   "outputs": [
    {
     "name": "stdout",
     "output_type": "stream",
     "text": [
      "OMOP:4132161\n",
      "RXNORM:A14A\n",
      "RXNORM:C07A\n",
      "RXNORM:H02A\n",
      "RXNORM:R03AL\n"
     ]
    }
   ],
   "source": [
    "!grep -oE '\\b[A-Z][A-Za-z0-9]*:[A-Za-z0-9]+\\b' /sbgenomics/workspace/output/test/COPDGene-ingest/tsv_output/DrugExposure_remapped.tsv | sort -u | head"
   ]
  },
  {
   "cell_type": "code",
   "execution_count": 10,
   "id": "c57d05b6-c784-44fa-9587-fd31c9ee9a12",
   "metadata": {},
   "outputs": [],
   "source": [
    "%%bash -s \"$curie_map\" \"$base_dir\" \"Observation\"\n",
    "awk 'BEGIN{FS=OFS=\"\\t\"} FNR==NR {map[$1]=$2; next} {for(i=1;i<=NF;i++) if($i in map) $i=map[$i]; print}' \\\n",
    "    \"$1\" \"$2/$3.tsv\" > \"$2/${3}_remapped.tsv\""
   ]
  },
  {
   "cell_type": "code",
   "execution_count": 11,
   "id": "360084f5-9169-42af-9d2b-7477de248c14",
   "metadata": {},
   "outputs": [
    {
     "name": "stdout",
     "output_type": "stream",
     "text": [
      "OMOP:4132161\n",
      "RXNORM:A14A\n",
      "RXNORM:C07A\n",
      "RXNORM:H02A\n",
      "RXNORM:R03AL\n"
     ]
    }
   ],
   "source": [
    "!grep -oE '\\b[A-Z][A-Za-z0-9]*:[A-Za-z0-9]+\\b' /sbgenomics/workspace/output/test/COPDGene-ingest/tsv_output/DrugExposure_remapped.tsv | sort -u | head"
   ]
  },
  {
   "cell_type": "code",
   "execution_count": 12,
   "id": "efbb7606-00a9-43f4-8e79-40bf7cbc161f",
   "metadata": {},
   "outputs": [],
   "source": [
    "%%bash -s \"$curie_map\" \"$base_dir\" \"Participant\"\n",
    "awk 'BEGIN{FS=OFS=\"\\t\"} FNR==NR {map[$1]=$2; next} {for(i=1;i<=NF;i++) if($i in map) $i=map[$i]; print}' \\\n",
    "    \"$1\" \"$2/$3.tsv\" > \"$2/${3}_remapped.tsv\""
   ]
  },
  {
   "cell_type": "code",
   "execution_count": 13,
   "id": "584d7ecd-5c1a-4f68-9494-4cd24364cfe9",
   "metadata": {},
   "outputs": [
    {
     "name": "stdout",
     "output_type": "stream",
     "text": [
      "OMOP:4132161\n",
      "RXNORM:A14A\n",
      "RXNORM:C07A\n",
      "RXNORM:H02A\n",
      "RXNORM:R03AL\n"
     ]
    }
   ],
   "source": [
    "!grep -oE '\\b[A-Z][A-Za-z0-9]*:[A-Za-z0-9]+\\b' /sbgenomics/workspace/output/test/COPDGene-ingest/tsv_output/DrugExposure_remapped.tsv | sort -u | head"
   ]
  },
  {
   "cell_type": "code",
   "execution_count": 14,
   "id": "737d5dc0-058b-401a-b59e-a62e2c75278a",
   "metadata": {},
   "outputs": [],
   "source": [
    "%%bash -s \"$curie_map\" \"$base_dir\" \"Person\"\n",
    "awk 'BEGIN{FS=OFS=\"\\t\"} FNR==NR {map[$1]=$2; next} {for(i=1;i<=NF;i++) if($i in map) $i=map[$i]; print}' \\\n",
    "    \"$1\" \"$2/$3.tsv\" > \"$2/${3}_remapped.tsv\""
   ]
  },
  {
   "cell_type": "code",
   "execution_count": 15,
   "id": "9a52c3e9-7724-431b-be7d-3f63507061ed",
   "metadata": {},
   "outputs": [
    {
     "name": "stdout",
     "output_type": "stream",
     "text": [
      "OMOP:4132161\n",
      "RXNORM:A14A\n",
      "RXNORM:C07A\n",
      "RXNORM:H02A\n",
      "RXNORM:R03AL\n"
     ]
    }
   ],
   "source": [
    "!grep -oE '\\b[A-Z][A-Za-z0-9]*:[A-Za-z0-9]+\\b' /sbgenomics/workspace/output/test/COPDGene-ingest/tsv_output/DrugExposure_remapped.tsv | sort -u | head"
   ]
  },
  {
   "cell_type": "code",
   "execution_count": 16,
   "id": "f96e5607-036d-4c63-b8b8-55e06ab9b4fb",
   "metadata": {},
   "outputs": [],
   "source": [
    "%%bash -s \"$curie_map\" \"$base_dir\" \"Procedure\"\n",
    "awk 'BEGIN{FS=OFS=\"\\t\"} FNR==NR {map[$1]=$2; next} {for(i=1;i<=NF;i++) if($i in map) $i=map[$i]; print}' \\\n",
    "    \"$1\" \"$2/$3.tsv\" > \"$2/${3}_remapped.tsv\""
   ]
  },
  {
   "cell_type": "code",
   "execution_count": 17,
   "id": "6611ca27-5e98-405f-bd2d-26db31576d6d",
   "metadata": {},
   "outputs": [
    {
     "name": "stdout",
     "output_type": "stream",
     "text": [
      "OMOP:4132161\n",
      "RXNORM:A14A\n",
      "RXNORM:C07A\n",
      "RXNORM:H02A\n",
      "RXNORM:R03AL\n"
     ]
    }
   ],
   "source": [
    "!grep -oE '\\b[A-Z][A-Za-z0-9]*:[A-Za-z0-9]+\\b' /sbgenomics/workspace/output/test/COPDGene-ingest/tsv_output/DrugExposure_remapped.tsv | sort -u | head"
   ]
  },
  {
   "cell_type": "code",
   "execution_count": 18,
   "id": "a1774244-207c-4306-81b5-3d3b98574004",
   "metadata": {},
   "outputs": [],
   "source": [
    "%%bash -s \"$curie_map\" \"$base_dir\" \"SdohObservation\"\n",
    "awk 'BEGIN{FS=OFS=\"\\t\"} FNR==NR {map[$1]=$2; next} {for(i=1;i<=NF;i++) if($i in map) $i=map[$i]; print}' \\\n",
    "    \"$1\" \"$2/$3.tsv\" > \"$2/${3}_remapped.tsv\""
   ]
  },
  {
   "cell_type": "code",
   "execution_count": 19,
   "id": "63d43d96-56b8-4859-9f3d-d269bc29322a",
   "metadata": {},
   "outputs": [
    {
     "name": "stdout",
     "output_type": "stream",
     "text": [
      "OMOP:4132161\n",
      "RXNORM:A14A\n",
      "RXNORM:C07A\n",
      "RXNORM:H02A\n",
      "RXNORM:R03AL\n"
     ]
    }
   ],
   "source": [
    "!grep -oE '\\b[A-Z][A-Za-z0-9]*:[A-Za-z0-9]+\\b' /sbgenomics/workspace/output/test/COPDGene-ingest/tsv_output/DrugExposure_remapped.tsv | sort -u | head"
   ]
  }
 ],
 "metadata": {
  "kernelspec": {
   "display_name": "Python (dm-bip)",
   "language": "python",
   "name": "dm-bip"
  },
  "language_info": {
   "codemirror_mode": {
    "name": "ipython",
    "version": 3
   },
   "file_extension": ".py",
   "mimetype": "text/x-python",
   "name": "python",
   "nbconvert_exporter": "python",
   "pygments_lexer": "ipython3",
   "version": "3.11.6"
  }
 },
 "nbformat": 4,
 "nbformat_minor": 5
}
