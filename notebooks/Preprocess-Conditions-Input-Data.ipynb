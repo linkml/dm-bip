{
 "cells": [
  {
   "cell_type": "markdown",
   "id": "ab9035a6-4d09-405f-888c-de7643bd970d",
   "metadata": {},
   "source": [
    "# Preprocess Conditions Input Data\n",
    "\n",
    "\n",
    "Create a single, unified file of annotated conditions and other Conditions information needed based on the INCLUDE LinkML model to use as the input to linkml-map.\n",
    "\n",
    "This notebook is used with the Brain Power study."
   ]
  },
  {
   "cell_type": "code",
   "execution_count": null,
   "id": "f717dfa6-6317-48ee-aca6-c38ec2e2bc88",
   "metadata": {},
   "outputs": [],
   "source": [
    "# Imports\n",
    "import pandas as pd\n",
    "\n",
    "pd.set_option(\"display.max_colwidth\", None)"
   ]
  },
  {
   "cell_type": "code",
   "execution_count": null,
   "id": "1f1e95d9-0bee-4c64-908f-f266e0cc7824",
   "metadata": {},
   "outputs": [],
   "source": [
    "# Read in annotated data file\n",
    "\n",
    "annotated_df = pd.read_csv(\n",
    "    \"../data/BrainPower-STUDY/harmonica_conditions_data/tmp/output/hp_mondo_maxo-combined_ontology_annotations-20250730-210251.tsv\",\n",
    "    sep=\"\\t\",\n",
    ")\n",
    "\n",
    "# annotated_df[annotated_df[\"condition_name\"] == \"vsd\"].head(5)"
   ]
  },
  {
   "cell_type": "code",
   "execution_count": null,
   "id": "cfc2a664-b706-4159-ba07-69700c2bb226",
   "metadata": {},
   "outputs": [],
   "source": [
    "# There are multiple rows per participant (id), one row for each set of ontology annotation results. Collapse these\n",
    "# rows back together.\n",
    "\n",
    "# Columns to group by\n",
    "group_cols = [\"id\", \"timepoint\", \"condition_name\", \"has_condition\", \"UUID\"]\n",
    "\n",
    "# Columns to combine\n",
    "agg_cols = [\n",
    "    \"hpo_result_curie\",\n",
    "    \"hpo_result_label\",\n",
    "    \"hpo_result_match_type\",\n",
    "    \"mondo_result_curie\",\n",
    "    \"mondo_result_label\",\n",
    "    \"mondo_result_match_type\",\n",
    "    \"annotation_source\",\n",
    "    \"annotation_method\",\n",
    "    \"ontology\",\n",
    "]\n",
    "\n",
    "# Define how to aggregate: join unique non-null values\n",
    "aggregations = {col: lambda x: \", \".join(sorted(set(x.dropna().astype(str)))) for col in agg_cols}\n",
    "\n",
    "# Group and aggregate\n",
    "annotated_combined_df = annotated_df.groupby(group_cols, dropna=False).agg(aggregations).reset_index()\n",
    "\n",
    "\n",
    "# annotated_combined_df[annotated_combined_df['condition_name'] == 'vsd'].head(5)"
   ]
  },
  {
   "cell_type": "code",
   "execution_count": null,
   "id": "9ba72cc4-a46f-4ca8-8df6-5bbc97432c52",
   "metadata": {},
   "outputs": [],
   "source": [
    "# Trim out unnecessary columns from annotated_df\n",
    "\n",
    "columns_to_keep = [\n",
    "    \"id\",\n",
    "    \"timepoint\",\n",
    "    \"condition_name\",\n",
    "    \"hpo_result_curie\",\n",
    "    \"hpo_result_label\",\n",
    "    \"mondo_result_curie\",\n",
    "    \"mondo_result_label\",\n",
    "]\n",
    "\n",
    "annotated_trimmed_df = annotated_combined_df[columns_to_keep]\n",
    "\n",
    "\n",
    "# annotated_trimmed_df[annotated_trimmed_df[\"condition_name\"] == \"vsd\"].head(5)"
   ]
  },
  {
   "cell_type": "code",
   "execution_count": null,
   "id": "c4f509ac-c1f1-4cc7-8e44-6a55866aa1cd",
   "metadata": {},
   "outputs": [],
   "source": [
    "# Read in Health Conditions data dictionary in order to process text for \"Condition or Measure Source Text\"\n",
    "\n",
    "conditions_dataDict_df = pd.read_csv(\"../data/BrainPower-STUDY/data_dictionary/Health Conditions Data Dictionary.csv\")"
   ]
  },
  {
   "cell_type": "code",
   "execution_count": null,
   "id": "086ed745-ba18-4df3-8dd1-8a6f23c5ba84",
   "metadata": {},
   "outputs": [],
   "source": [
    "# Format conditionMeasureSourceText value which is the 'description' text for the rows after\n",
    "# the 'variable' 'timepoint', e.g. vsd, sd, etc. and is the text up to the first \"(\" and then appended with \"- Yes\"\n",
    "\n",
    "conditions_dataDict_df.loc[conditions_dataDict_df.index >= 2, \"conditionMeasureSourceText\"] = (\n",
    "    conditions_dataDict_df.loc[conditions_dataDict_df.index >= 2, \"description\"]\n",
    "    .str.split(\"(\", n=1)\n",
    "    .str[0]  # Take part before the first '('\n",
    "    .str.strip()\n",
    "    + \" - Yes\"  # Append \" - Yes\"\n",
    ")"
   ]
  },
  {
   "cell_type": "code",
   "execution_count": null,
   "id": "63bd9132-6b85-4a3d-baaa-e1fb4cbe3113",
   "metadata": {},
   "outputs": [],
   "source": [
    "# Merge the conditionMeasureSourceText into annotated_trimmed_df\n",
    "\n",
    "annotated_trimmed_df = annotated_trimmed_df.merge(\n",
    "    conditions_dataDict_df[[\"variable\", \"conditionMeasureSourceText\"]],\n",
    "    how=\"left\",\n",
    "    left_on=\"condition_name\",\n",
    "    right_on=\"variable\",\n",
    ")\n",
    "\n",
    "# Drop the now redundant 'variable' column (optional)\n",
    "annotated_trimmed_df.drop(columns=\"variable\", inplace=True)\n",
    "\n",
    "# annotated_trimmed_df[annotated_trimmed_df[\"condition_name\"] == \"vsd\"].head(5)"
   ]
  },
  {
   "cell_type": "code",
   "execution_count": null,
   "id": "a961c4f1-760c-470f-8ed3-07216bab6af9",
   "metadata": {},
   "outputs": [],
   "source": [
    "# REVIEW the merged results\n",
    "# It is expected to have multiple rows per participant for different 'condition_name' values and these rows\n",
    "# could have values where an ontology annotation exists in both the HPO and Mondo related columns for that same condition\n",
    "# if an annotation for these values was found.\n",
    "\n",
    "# Display example data for id=1303\n",
    "# display(annotated_trimmed_df[annotated_trimmed_df['id'] == 1303].head())"
   ]
  },
  {
   "cell_type": "code",
   "execution_count": null,
   "id": "60a448b4-97a1-49ef-a800-0191c204d789",
   "metadata": {},
   "outputs": [],
   "source": [
    "# Read in \"ageateventandlatency.tsv\" file\n",
    "\n",
    "age_events_df = pd.read_csv(\"../data/BrainPower-STUDY/raw_data/TSV/ageateventandlatency.tsv\", sep=\"\\t\")\n",
    "# age_events_df.head()"
   ]
  },
  {
   "cell_type": "code",
   "execution_count": null,
   "id": "0c37adfd-013c-4b49-9b9a-0d1fcdd5a123",
   "metadata": {},
   "outputs": [],
   "source": [
    "# Add new columns for 'age_at_visit_timepoint_1', 'age_at_visit_timepoint_3' and 'age_at_visit_timepoint_5'.\n",
    "# These values come from the \"ageateventandlatency.tsv\" file, the age_events_df above.\n",
    "\n",
    "# Pivot: use id as index, spread age_at_visit across timepoints\n",
    "pivoted = age_events_df.pivot(index=\"id\", columns=\"timepoint\", values=\"age_at_visit\")\n",
    "\n",
    "# Rename columns\n",
    "pivoted.columns = [f\"age_at_timepoint_{int(col)}\" for col in pivoted.columns]\n",
    "\n",
    "# Reset index to get 'id' back as a column\n",
    "age_events_pivot_df = pivoted.reset_index()\n",
    "\n",
    "# age_events_pivot_df.head()"
   ]
  },
  {
   "cell_type": "code",
   "execution_count": null,
   "id": "70578667-9f9a-4fd4-9300-bf33d9e128ca",
   "metadata": {},
   "outputs": [],
   "source": [
    "# Join these age values from age_events_pivot_df with values in annotated_trimmed_df\n",
    "\n",
    "annotated_trimmed_with_ages_df = annotated_trimmed_df.merge(age_events_pivot_df, on=\"id\", how=\"left\")\n",
    "\n",
    "annotated_trimmed_with_ages_df.to_csv(\"annotated_trimmed_with_ages_df.tsv\", sep=\"\\t\", index=False)\n",
    "\n",
    "# annotated_trimmed_with_ages_df[annotated_trimmed_with_ages_df['id'] == 1303].head()"
   ]
  },
  {
   "cell_type": "code",
   "execution_count": null,
   "id": "0b8f0b00-7d66-4b76-819a-b4f5721cbaf9",
   "metadata": {},
   "outputs": [],
   "source": [
    "# Read in anthropometrics.tsv file --> remember this file has one row per timepoint value\n",
    "\n",
    "anthropometrics_df = pd.read_csv(\"../data/BrainPower-STUDY/raw_data/TSV/anthropometrics.tsv\", sep=\"\\t\")"
   ]
  },
  {
   "cell_type": "code",
   "execution_count": null,
   "id": "24c4011e-69f2-4ed0-89b2-6fd2bb6d1267",
   "metadata": {},
   "outputs": [],
   "source": [
    "# For each timepoint value, e.g. 1, 3, and 5, we need separate columns for each metric of interest,\n",
    "# for example height_timepoint_1, height_timepoint_3, and height_timepoint_5\n",
    "# This needs to be done for all columns in this file that are in the INCLUDE LinkML model\n",
    "# These variables: height, weight, bmi, waist, sbp, dbp, resting_hr\n",
    "\n",
    "# NOTE: These should have values for Other Label as: Body Height, Body Weight, Body Mass Index,\n",
    "# Waist Circumference at umbilicus by Tape measure, Systolic blood pressure, Diastolic blood pressure, Heart rate --resting\n",
    "\n",
    "\n",
    "# Melt so each variable/timepoint is a row\n",
    "melted_anthropometrics_df = pd.melt(\n",
    "    anthropometrics_df, id_vars=[\"id\", \"timepoint\"], var_name=\"variable\", value_name=\"value\"\n",
    ")\n",
    "\n",
    "# Create new column names\n",
    "melted_anthropometrics_df[\"new_col\"] = (\n",
    "    melted_anthropometrics_df[\"variable\"] + \"_timepoint_\" + melted_anthropometrics_df[\"timepoint\"].astype(str)\n",
    ")\n",
    "\n",
    "# Pivot back\n",
    "pivoted_anthropometrics_df = melted_anthropometrics_df.pivot_table(\n",
    "    index=\"id\", columns=\"new_col\", values=\"value\"\n",
    ").reset_index()\n",
    "\n",
    "# pivoted_anthropometrics_df.head()"
   ]
  },
  {
   "cell_type": "code",
   "execution_count": null,
   "id": "b560b247-d953-48f8-a842-d5abe9bd7008",
   "metadata": {},
   "outputs": [],
   "source": [
    "# Join \"annotated_trimmed_with_ages_df\" with \"pivoted_anthropometrics_df\" on 'id' as a left join and drop the column 'new_col'\n",
    "\n",
    "# Left join on 'id'\n",
    "all_cols_df = annotated_trimmed_with_ages_df.merge(pivoted_anthropometrics_df, on=\"id\", how=\"left\")\n",
    "\n",
    "# all_cols_df.head()"
   ]
  },
  {
   "cell_type": "code",
   "execution_count": null,
   "id": "65cb4d21-864e-4440-972c-3ec7dda1337c",
   "metadata": {},
   "outputs": [],
   "source": [
    "# Convert empty column values to an empty string\n",
    "all_cols_df = all_cols_df.fillna(\"\")"
   ]
  },
  {
   "cell_type": "code",
   "execution_count": null,
   "id": "b2c3b6a2-b151-44d0-b26a-9f492fd52ce1",
   "metadata": {},
   "outputs": [],
   "source": [
    "# Review results\n",
    "\n",
    "# all_cols_df[all_cols_df['id'] == 1302]"
   ]
  },
  {
   "cell_type": "code",
   "execution_count": null,
   "id": "98887e07-e39d-4c08-a062-a34c6cf8321a",
   "metadata": {},
   "outputs": [],
   "source": [
    "# Save to file\n",
    "all_cols_df.to_csv(\n",
    "    \"../data/BrainPower-STUDY/raw_data/TSV_Transformed/healthconditions_all_cols.tsv\", sep=\"\\t\", index=False\n",
    ")"
   ]
  },
  {
   "cell_type": "code",
   "execution_count": null,
   "id": "6eb50452-be33-4cbd-9bc9-169364b8b416",
   "metadata": {},
   "outputs": [],
   "source": []
  }
 ],
 "metadata": {
  "kernelspec": {
   "display_name": "Python (dm-bip)",
   "language": "python",
   "name": "dm-bip"
  },
  "language_info": {
   "codemirror_mode": {
    "name": "ipython",
    "version": 3
   },
   "file_extension": ".py",
   "mimetype": "text/x-python",
   "name": "python",
   "nbconvert_exporter": "python",
   "pygments_lexer": "ipython3",
   "version": "3.12.9"
  }
 },
 "nbformat": 4,
 "nbformat_minor": 5
}
