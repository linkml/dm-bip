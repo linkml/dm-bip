{
 "cells": [
  {
   "cell_type": "code",
   "execution_count": null,
   "id": "bf6739dc-7468-44b2-b00c-3ca089958005",
   "metadata": {},
   "outputs": [],
   "source": [
    "from pathlib import Path\n",
    "import os\n",
    "# import re\n",
    "import subprocess\n",
    "import yaml\n",
    "\n",
    "from linkml.validator.loaders import TsvLoader\n",
    "# from linkml.utils.schema_builder import SchemaBuilder\n",
    "\n",
    "# from linkml_runtime.linkml_model import SlotDefinition\n",
    "from linkml_runtime import SchemaView\n",
    "\n",
    "# from linkml_map.session import Session\n",
    "from linkml_map.transformer.object_transformer import ObjectTransformer"
   ]
  },
  {
   "cell_type": "code",
   "execution_count": null,
   "id": "6956b1d2-bcc6-47f8-8b35-763c7074f200",
   "metadata": {},
   "outputs": [],
   "source": [
    "# source_sv = SchemaView(\"/sbgenomics/workspace/output/HCHS_SOL_cleaned/Schema_HCHS_SOL_v1_c1.yaml\")\n",
    "source_sv = SchemaView(\"/sbgenomics/workspace/output/MESA/Schema_MESA_v13_c1/Schema_MESA_v13_c1.yaml\")\n",
    "source_schema = source_sv.schema\n",
    "\n",
    "target_sv = SchemaView(\"/sbgenomics/workspace/NHLBI-BDC-DMC-HM/src/bdchm/schema/bdchm.yaml\")\n",
    "target_schema = target_sv.schema\n",
    "\n",
    "# var_dir = \"/sbgenomics/workspace/NHLBI-BDC-DMC-HV/priority_variables_transform/HCHS-ingest/\"\n",
    "var_dir = \"/sbgenomics/workspace/NHLBI-BDC-DMC-HV/priority_variables_transform/MESA-ingest/\""
   ]
  },
  {
   "cell_type": "code",
   "execution_count": null,
   "id": "5d3790e2-4b96-4fa4-a347-8f7aa2371b12",
   "metadata": {},
   "outputs": [],
   "source": [
    "class LazyTsvLoader:\n",
    "    def __init__(self, base_path):\n",
    "        self.base_path = base_path\n",
    "        self.cache = {}\n",
    "\n",
    "    def __getitem__(self, pht_id):\n",
    "        if pht_id not in self.cache:\n",
    "            file_path = os.path.join(self.base_path, f\"{pht_id}.tsv\")\n",
    "            if not os.path.exists(file_path):\n",
    "                raise FileNotFoundError(f\"No TSV file found for {pht_id} at {file_path}\")\n",
    "            loader = TsvLoader(file_path)\n",
    "            self.cache[pht_id] = list(loader.iter_instances())\n",
    "        return self.cache[pht_id]\n",
    "\n",
    "    def __contains__(self, pht_id):\n",
    "        return os.path.exists(os.path.join(self.base_path, f\"{pht_id}.tsv\"))\n",
    "\n",
    "# lazy_loader = LazyTsvLoader(\"/sbgenomics/workspace/output/HCHS_SOL_cleaned/HCHS-SOL-v1-c1/\")\n",
    "lazy_loader = LazyTsvLoader(\"/sbgenomics/workspace/output/MESA_cleaned/MESA-v13-c1\")"
   ]
  },
  {
   "cell_type": "code",
   "execution_count": null,
   "id": "c89474fc-7dac-40c7-8709-265ba6c7bc3f",
   "metadata": {},
   "outputs": [],
   "source": [
    "transform_yaml = yaml.safe_load(open(str(var_dir + \"\" + \"afib\" + \".yaml\")))\n",
    "\n",
    "all_results = []\n",
    "for block in transform_yaml:\n",
    "    derivation = block[\"class_derivations\"]\n",
    "    for class_name, class_spec in derivation.items():\n",
    "        pht_id = class_spec[\"populated_from\"]\n",
    "        print(f\"Processing {pht_id} for class {class_name}\")\n",
    "\n",
    "        rows = lazy_loader[pht_id]\n",
    "        \n",
    "        transformer = ObjectTransformer(unrestricted_eval=True)\n",
    "        transformer.source_schemaview = SchemaView(source_schema)\n",
    "        transformer.target_schemaview = SchemaView(target_schema)\n",
    "        transformer.create_transformer_specification(block)\n",
    "\n",
    "        for row in rows:\n",
    "            mapped = transformer.map_object(row, source_type=pht_id)\n",
    "            all_results.append(mapped)\n",
    "\n",
    "with open(\"output.yaml\", \"w\") as f:\n",
    "    yaml.dump(all_results, f)"
   ]
  },
  {
   "cell_type": "code",
   "execution_count": null,
   "id": "7f7cc7b9-6963-49fe-a659-ca66803bc660",
   "metadata": {},
   "outputs": [],
   "source": [
    "def load_yaml_lists_matching_string_fileblocks(directory, search_string):\n",
    "    \"\"\"\n",
    "    Search for YAML files in the directory that contain the search_string\n",
    "    and load all their contents into a list of (filename, yaml_block).\n",
    "\n",
    "    Returns:\n",
    "        list of tuples: [(filename, block), ...]\n",
    "    \"\"\"\n",
    "    directory = Path(directory)\n",
    "\n",
    "    result = subprocess.run(\n",
    "        ['grep', '-rl', search_string, str(directory)],\n",
    "        stdout=subprocess.PIPE,\n",
    "        text=True,\n",
    "        check=True\n",
    "    )\n",
    "\n",
    "    combined = []\n",
    "    for file_path in result.stdout.strip().split('\\n'):\n",
    "        if file_path.endswith('.yaml') or file_path.endswith('.yml'):\n",
    "            with open(file_path, 'r') as f:\n",
    "                data = yaml.safe_load(f)\n",
    "                if isinstance(data, list):\n",
    "                    for block in data:\n",
    "                        combined.append((file_path, block))\n",
    "                else:\n",
    "                    combined.append((file_path, data))\n",
    "    def sort_key(item):\n",
    "        filename = Path(item[0]).stem  # gets base name without path or extension\n",
    "        return filename\n",
    "\n",
    "    combined.sort(key=sort_key)\n",
    "    return combined\n"
   ]
  },
  {
   "cell_type": "code",
   "execution_count": null,
   "id": "42fc0c0f-4d66-49ae-aa14-44961bae805a",
   "metadata": {
    "editable": true,
    "slideshow": {
     "slide_type": ""
    },
    "tags": []
   },
   "outputs": [],
   "source": [
    "def transform_all_blocks_fileblocks(lazy_loader, file_block_pairs, source_schema, target_schema):\n",
    "    all_results = []\n",
    "    old_filename = \"\"\n",
    "    for filename, block in file_block_pairs:\n",
    "        if filename != old_filename:\n",
    "            # if old_filename != \"\":\n",
    "                # print(old_filename)\n",
    "            print(filename)\n",
    "            old_filename = filename\n",
    "        try:\n",
    "            derivation = block[\"class_derivations\"]\n",
    "            print(f\".\", end='', flush=True)\n",
    "            for class_name, class_spec in derivation.items():\n",
    "                pht_id = class_spec[\"populated_from\"]\n",
    "                rows = lazy_loader[pht_id]\n",
    "\n",
    "                transformer = ObjectTransformer(unrestricted_eval=True)\n",
    "                transformer.source_schemaview = SchemaView(source_schema)\n",
    "                transformer.target_schemaview = SchemaView(target_schema)\n",
    "                transformer.create_transformer_specification(block)\n",
    "\n",
    "                for row in rows:\n",
    "                    mapped = transformer.map_object(row, source_type=pht_id)\n",
    "                    all_results.append(mapped)\n",
    "        except Exception as e:\n",
    "            print(f\"\\n⚠️  Error processing {filename}: {e.__class__.__name__} - {e}\")\n",
    "            print(block)\n",
    "            import traceback\n",
    "            traceback.print_exc()\n",
    "            raise\n",
    "\n",
    "    return all_results\n"
   ]
  },
  {
   "cell_type": "code",
   "execution_count": null,
   "id": "4d45a470-c5d4-44c2-805f-740c975e8773",
   "metadata": {},
   "outputs": [],
   "source": [
    "base = lambda pair: Path(pair[0]).stem"
   ]
  },
  {
   "cell_type": "code",
   "execution_count": null,
   "id": "5315f479-4d13-4c53-8b00-99f9bf9186e6",
   "metadata": {
    "editable": true,
    "slideshow": {
     "slide_type": ""
    },
    "tags": []
   },
   "outputs": [],
   "source": [
    "# file_block_pairs = load_yaml_lists_matching_string_fileblocks(var_dir, \" Condition:\")\n",
    "# file_block_pairs = load_yaml_lists_matching_string_fileblocks(var_dir, \" DrugExposure:\")\n",
    "# file_block_pairs = load_yaml_lists_matching_string_fileblocks(var_dir, \" MeasurementObservation:\")\n",
    "# file_block_pairs = load_yaml_lists_matching_string_fileblocks(var_dir, \" Observation:\")\n",
    "# file_block_pairs = load_yaml_lists_matching_string_fileblocks(var_dir, \" Person:\")\n",
    "# file_block_pairs = load_yaml_lists_matching_string_fileblocks(var_dir, \" Procedure:\")\n",
    "\n",
    "subset = file_block_pairs\n",
    "# subset = [b for b in file_block_pairs if base(b) == \"chloride_bld\"]\n",
    "# subset = [b for b in file_block_pairs if base(b) >= \"fam_income\"]\n",
    "# subset = [b for b in file_block_pairs if base(b) > \"hdl\"]\n",
    "\n",
    "transform_results = transform_all_blocks_fileblocks(lazy_loader, subset, source_schema, target_schema)\n",
    "print(\"Transform Complete\")\n",
    "\n",
    "\n",
    "# with open(\"output.yaml\", \"w\") as f:\n",
    "#     yaml.dump(all_results, f)\n",
    "# with open(\"/sbgenomics/output-files/CHS-ingest/CHS-ingest-\"+ \"v7-c1-\" + \"Procedure\" + \"-HMB-IRB-MDS-data.yaml\", \"w\") as f:\n",
    "#     yaml.dump(transform_results, f)"
   ]
  },
  {
   "cell_type": "code",
   "execution_count": null,
   "id": "383584da-977f-41e5-98f5-cd7797422b0d",
   "metadata": {},
   "outputs": [],
   "source": [
    "data_version = \"MESA-v13-c1\"\n",
    "lazy_loader = LazyTsvLoader(\"/sbgenomics/workspace/output/MESA_cleaned/\"+ data_version +\"/\")\n",
    "\n",
    "entities = [ \"Condition\", \"DrugExposure\", \"MeasurementObservation\", \"Observation\", \"Person\", ] # \"Procedure\" ]\n",
    "\n",
    "for entity in entities:\n",
    "    file_block_pairs = load_yaml_lists_matching_string_fileblocks(var_dir, f\" {entity}:\")\n",
    "    transform_results = transform_all_blocks_fileblocks(lazy_loader, file_block_pairs, source_schema, target_schema)\n",
    "    print(f\"{entity} Complete\")\n",
    "    output_path = f\"/sbgenomics/output-files/MESA-ingest/{data_version}-{entity}-HMB-data.yaml\"\n",
    "    with open(output_path, \"w\") as f:\n",
    "        yaml.dump(transform_results, f)\n"
   ]
  },
  {
   "cell_type": "code",
   "execution_count": null,
   "id": "50e28a99-c92f-4ac2-8cd5-c0a558d2b15c",
   "metadata": {},
   "outputs": [],
   "source": []
  }
 ],
 "metadata": {
  "kernelspec": {
   "display_name": "Python (dm-bip)",
   "language": "python",
   "name": "dm-bip"
  },
  "language_info": {
   "codemirror_mode": {
    "name": "ipython",
    "version": 3
   },
   "file_extension": ".py",
   "mimetype": "text/x-python",
   "name": "python",
   "nbconvert_exporter": "python",
   "pygments_lexer": "ipython3",
   "version": "3.11.6"
  }
 },
 "nbformat": 4,
 "nbformat_minor": 5
}
