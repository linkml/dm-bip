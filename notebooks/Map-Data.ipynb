{
 "cells": [
  {
   "cell_type": "code",
   "execution_count": 1,
   "id": "bf6739dc-7468-44b2-b00c-3ca089958005",
   "metadata": {},
   "outputs": [],
   "source": [
    "from itertools import islice\n",
    "import os\n",
    "from pathlib import Path\n",
    "import subprocess\n",
    "import time\n",
    "import yaml\n",
    "\n",
    "from linkml.validator.loaders import TsvLoader\n",
    "from linkml_runtime import SchemaView\n",
    "from linkml_map.transformer.object_transformer import ObjectTransformer"
   ]
  },
  {
   "cell_type": "code",
   "execution_count": 2,
   "id": "5d3790e2-4b96-4fa4-a347-8f7aa2371b12",
   "metadata": {},
   "outputs": [],
   "source": [
    "class DataLoader:\n",
    "    def __init__(self, base_path):\n",
    "        self.base_path = base_path\n",
    "\n",
    "    def __getitem__(self, pht_id):\n",
    "        file_path = os.path.join(self.base_path, f\"{pht_id}.tsv\")\n",
    "        if not os.path.exists(file_path):\n",
    "            raise FileNotFoundError(f\"No TSV file found for {pht_id} at {file_path}\")\n",
    "        return TsvLoader(os.path.join(self.base_path, f\"{pht_id}.tsv\")).iter_instances()\n",
    "\n",
    "    def __contains__(self, pht_id):\n",
    "        return os.path.exists(os.path.join(self.base_path, f\"{pht_id}.tsv\"))"
   ]
  },
  {
   "cell_type": "code",
   "execution_count": 3,
   "id": "28678d48-14be-442a-be76-f51f305450f2",
   "metadata": {},
   "outputs": [],
   "source": [
    "def get_spec_files(directory, search_string):\n",
    "    \"\"\"\n",
    "    Find YAML files in the directory that contain the search_string.\n",
    "    Returns a sorted list of matching file paths.\n",
    "    \"\"\"\n",
    "    directory = Path(directory)\n",
    "\n",
    "    # grep -rl \" Condition:\"  ### Example\n",
    "    result = subprocess.run(\n",
    "        ['grep', '-rl', search_string, str(directory)],\n",
    "        stdout=subprocess.PIPE,\n",
    "        text=True,\n",
    "        check=True\n",
    "    )\n",
    "\n",
    "    file_paths = [\n",
    "        Path(p.strip()) for p in result.stdout.strip().split('\\n')\n",
    "        if p.strip().endswith(('.yaml', '.yml'))\n",
    "    ]\n",
    "    return sorted(file_paths, key=lambda p: p.stem)"
   ]
  },
  {
   "cell_type": "code",
   "execution_count": 4,
   "id": "77718894-041c-47e3-98ab-901c71b83aa2",
   "metadata": {},
   "outputs": [],
   "source": [
    "def multi_spec_transform(data_loader, spec_files, source_schema, target_schema):\n",
    "    for file in spec_files:\n",
    "        print(f\"{file.stem}\", end='', flush=True)\n",
    "        try:\n",
    "            with open(file) as f:\n",
    "                specs = yaml.safe_load(f)\n",
    "            for block in specs:\n",
    "                derivation = block[\"class_derivations\"]\n",
    "                print(\".\", end='', flush=True)\n",
    "                for class_name, class_spec in derivation.items():\n",
    "                    pht_id = class_spec[\"populated_from\"]\n",
    "                    rows = data_loader[pht_id]\n",
    "\n",
    "                    transformer = ObjectTransformer(unrestricted_eval=True)\n",
    "                    transformer.source_schemaview = SchemaView(source_schema)\n",
    "                    transformer.target_schemaview = SchemaView(target_schema)\n",
    "                    transformer.create_transformer_specification(block)\n",
    "\n",
    "                    for row in rows:\n",
    "                        mapped = transformer.map_object(row, source_type=pht_id)\n",
    "                        yield mapped\n",
    "            print('')\n",
    "        except Exception as e:\n",
    "            print(f\"\\n⚠️  Error processing {file}: {e.__class__.__name__} - {e}\")\n",
    "            print(block)\n",
    "            import traceback\n",
    "            traceback.print_exc()\n",
    "            raise"
   ]
  },
  {
   "cell_type": "code",
   "execution_count": 5,
   "id": "45e84a8a-bec7-4ff2-bb70-2d8d4259e0ab",
   "metadata": {},
   "outputs": [],
   "source": [
    "def batched(iterable, batch_size):\n",
    "    iterator = iter(iterable)\n",
    "    for first in iterator:\n",
    "        batch = [first, *islice(iterator, batch_size - 1)]\n",
    "        yield batch"
   ]
  },
  {
   "cell_type": "code",
   "execution_count": 6,
   "id": "66313a05-df35-47b5-9f94-e6c65c5600b2",
   "metadata": {},
   "outputs": [],
   "source": [
    "# source_sv = SchemaView(\"/sbgenomics/workspace/output/CHS/Schema_CHS_v7_c1/Schema_CHS_v7_c1.yaml\")\n",
    "# source_sv = SchemaView(\"/sbgenomics/workspace/output/HCHS_SOL_cleaned/Schema_HCHS_SOL_v1_c1.yaml\")\n",
    "# source_sv = SchemaView(\"/sbgenomics/workspace/output/MESA/Schema_MESA_v13_c1/Schema_MESA_v13_c1.yaml\")\n",
    "source_sv = SchemaView(\"/sbgenomics/workspace/output/CHS/Schema_CHS_v7_c1/Schema_CHS_v7_c1.yaml\")\n",
    "source_schema = source_sv.schema\n",
    "\n",
    "target_sv = SchemaView(\"/sbgenomics/workspace/NHLBI-BDC-DMC-HM/src/bdchm/schema/bdchm.yaml\")\n",
    "target_schema = target_sv.schema\n",
    "\n",
    "# var_dir = \"/sbgenomics/workspace/NHLBI-BDC-DMC-HV/priority_variables_transform/CHS-ingest/\"\n",
    "# var_dir = \"/sbgenomics/workspace/NHLBI-BDC-DMC-HV/priority_variables_transform/HCHS-ingest/\"\n",
    "# var_dir = \"/sbgenomics/workspace/NHLBI-BDC-DMC-HV/priority_variables_transform/MESA-ingest/\"\n",
    "var_dir = \"/sbgenomics/workspace/NHLBI-BDC-DMC-HV/priority_variables_transform/CHS-ingest/\""
   ]
  },
  {
   "cell_type": "code",
   "execution_count": 9,
   "id": "641c4c8b-a9c2-4414-8f42-46b4ee10c6e7",
   "metadata": {},
   "outputs": [
    {
     "name": "stdout",
     "output_type": "stream",
     "text": [
      "Starting Demography\n",
      "demography..........\n",
      "⚠️  Error processing /sbgenomics/workspace/NHLBI-BDC-DMC-HV/priority_variables_transform/CHS-ingest/demography.yaml: ValueError - Could not find what to derive from a source phv00197400_enum\n",
      "{'class_derivations': {'Demography': {'populated_from': 'pht003699', 'slot_derivations': {'associated_participant': {'populated_from': 'phv00197394'}, 'sex': {'populated_from': 'phv00197400', 'value_mappings': {'M': \"'OMOP:8507'\", 'F': \"'OMOP:8532'\"}}}}}}\n"
     ]
    },
    {
     "name": "stderr",
     "output_type": "stream",
     "text": [
      "Traceback (most recent call last):\n",
      "  File \"/tmp/ipykernel_29266/1288493276.py\", line 20, in multi_spec_transform\n",
      "    mapped = transformer.map_object(row, source_type=pht_id)\n",
      "             ^^^^^^^^^^^^^^^^^^^^^^^^^^^^^^^^^^^^^^^^^^^^^^^\n",
      "  File \"/sbgenomics/workspace/linkml-map/src/linkml_map/transformer/object_transformer.py\", line 305, in map_object\n",
      "    v = self.map_object(v, source_class_slot_range, target_range)\n",
      "        ^^^^^^^^^^^^^^^^^^^^^^^^^^^^^^^^^^^^^^^^^^^^^^^^^^^^^^^^^\n",
      "  File \"/sbgenomics/workspace/linkml-map/src/linkml_map/transformer/object_transformer.py\", line 193, in map_object\n",
      "    return self.transform_enum(source_obj, source_type, source_obj)\n",
      "           ^^^^^^^^^^^^^^^^^^^^^^^^^^^^^^^^^^^^^^^^^^^^^^^^^^^^^^^^\n",
      "  File \"/sbgenomics/workspace/linkml-map/src/linkml_map/transformer/object_transformer.py\", line 512, in transform_enum\n",
      "    enum_deriv = self._get_enum_derivation(enum_name)\n",
      "                 ^^^^^^^^^^^^^^^^^^^^^^^^^^^^^^^^^^^^\n",
      "  File \"/sbgenomics/workspace/linkml-map/src/linkml_map/transformer/transformer.py\", line 218, in _get_enum_derivation\n",
      "    raise ValueError(msg)\n",
      "ValueError: Could not find what to derive from a source phv00197400_enum\n"
     ]
    },
    {
     "ename": "ValueError",
     "evalue": "Could not find what to derive from a source phv00197400_enum",
     "output_type": "error",
     "traceback": [
      "\u001b[31m---------------------------------------------------------------------------\u001b[39m",
      "\u001b[31mValueError\u001b[39m                                Traceback (most recent call last)",
      "\u001b[36mCell\u001b[39m\u001b[36m \u001b[39m\u001b[32mIn[9]\u001b[39m\u001b[32m, line 39\u001b[39m\n\u001b[32m     28\u001b[39m \u001b[38;5;66;03m# subset = [p for p in spec_files if p.stem == \"bdy_hgt\"]\u001b[39;00m\n\u001b[32m     29\u001b[39m \u001b[38;5;66;03m# subset = [p for p in spec_files if p.stem >= \"stroke\"]\u001b[39;00m\n\u001b[32m     30\u001b[39m \u001b[38;5;66;03m# subset = [p for p in spec_files if p.stem > \"afib\"]\u001b[39;00m\n\u001b[32m   (...)\u001b[39m\u001b[32m     34\u001b[39m \u001b[38;5;66;03m#     for batch in batched(multi_spec_transform(data_loader, subset, source_schema, target_schema), batch_size=100):\u001b[39;00m\n\u001b[32m     35\u001b[39m \u001b[38;5;66;03m#         yaml.dump_all(batch, f, explicit_start=True)\u001b[39;00m\n\u001b[32m     37\u001b[39m all_results = []\n\u001b[32m---> \u001b[39m\u001b[32m39\u001b[39m \u001b[43m\u001b[49m\u001b[38;5;28;43;01mfor\u001b[39;49;00m\u001b[43m \u001b[49m\u001b[43mbatch\u001b[49m\u001b[43m \u001b[49m\u001b[38;5;129;43;01min\u001b[39;49;00m\u001b[43m \u001b[49m\u001b[43mbatched\u001b[49m\u001b[43m(\u001b[49m\u001b[43mmulti_spec_transform\u001b[49m\u001b[43m(\u001b[49m\u001b[43mdata_loader\u001b[49m\u001b[43m,\u001b[49m\u001b[43m \u001b[49m\u001b[43msubset\u001b[49m\u001b[43m,\u001b[49m\u001b[43m \u001b[49m\u001b[43msource_schema\u001b[49m\u001b[43m,\u001b[49m\u001b[43m \u001b[49m\u001b[43mtarget_schema\u001b[49m\u001b[43m)\u001b[49m\u001b[43m,\u001b[49m\u001b[43m \u001b[49m\u001b[43mbatch_size\u001b[49m\u001b[43m=\u001b[49m\u001b[32;43m100\u001b[39;49m\u001b[43m)\u001b[49m\u001b[43m:\u001b[49m\n\u001b[32m     40\u001b[39m \u001b[43m    \u001b[49m\u001b[43mall_results\u001b[49m\u001b[43m.\u001b[49m\u001b[43mextend\u001b[49m\u001b[43m(\u001b[49m\u001b[43mbatch\u001b[49m\u001b[43m)\u001b[49m  \u001b[38;5;66;03m# Collect all batches into one list\u001b[39;00m\n\u001b[32m     42\u001b[39m key_name = entity.lower() + \u001b[33m\"\u001b[39m\u001b[33ms\u001b[39m\u001b[33m\"\u001b[39m\n",
      "\u001b[36mCell\u001b[39m\u001b[36m \u001b[39m\u001b[32mIn[5]\u001b[39m\u001b[32m, line 4\u001b[39m, in \u001b[36mbatched\u001b[39m\u001b[34m(iterable, batch_size)\u001b[39m\n\u001b[32m      2\u001b[39m iterator = \u001b[38;5;28miter\u001b[39m(iterable)\n\u001b[32m      3\u001b[39m \u001b[38;5;28;01mfor\u001b[39;00m first \u001b[38;5;129;01min\u001b[39;00m iterator:\n\u001b[32m----> \u001b[39m\u001b[32m4\u001b[39m     batch = [first, *islice(iterator, batch_size - \u001b[32m1\u001b[39m)]\n\u001b[32m      5\u001b[39m     \u001b[38;5;28;01myield\u001b[39;00m batch\n",
      "\u001b[36mCell\u001b[39m\u001b[36m \u001b[39m\u001b[32mIn[4]\u001b[39m\u001b[32m, line 20\u001b[39m, in \u001b[36mmulti_spec_transform\u001b[39m\u001b[34m(data_loader, spec_files, source_schema, target_schema)\u001b[39m\n\u001b[32m     17\u001b[39m         transformer.create_transformer_specification(block)\n\u001b[32m     19\u001b[39m         \u001b[38;5;28;01mfor\u001b[39;00m row \u001b[38;5;129;01min\u001b[39;00m rows:\n\u001b[32m---> \u001b[39m\u001b[32m20\u001b[39m             mapped = \u001b[43mtransformer\u001b[49m\u001b[43m.\u001b[49m\u001b[43mmap_object\u001b[49m\u001b[43m(\u001b[49m\u001b[43mrow\u001b[49m\u001b[43m,\u001b[49m\u001b[43m \u001b[49m\u001b[43msource_type\u001b[49m\u001b[43m=\u001b[49m\u001b[43mpht_id\u001b[49m\u001b[43m)\u001b[49m\n\u001b[32m     21\u001b[39m             \u001b[38;5;28;01myield\u001b[39;00m mapped\n\u001b[32m     22\u001b[39m \u001b[38;5;28mprint\u001b[39m(\u001b[33m'\u001b[39m\u001b[33m'\u001b[39m)\n",
      "\u001b[36mFile \u001b[39m\u001b[32m/sbgenomics/workspace/linkml-map/src/linkml_map/transformer/object_transformer.py:305\u001b[39m, in \u001b[36mObjectTransformer.map_object\u001b[39m\u001b[34m(self, source_obj, source_type, target_type, class_derivation)\u001b[39m\n\u001b[32m    303\u001b[39m         v = [\u001b[38;5;28mself\u001b[39m.map_object(v, source_class_slot_range, target_range)]\n\u001b[32m    304\u001b[39m \u001b[38;5;28;01melse\u001b[39;00m:\n\u001b[32m--> \u001b[39m\u001b[32m305\u001b[39m     v = \u001b[38;5;28;43mself\u001b[39;49m\u001b[43m.\u001b[49m\u001b[43mmap_object\u001b[49m\u001b[43m(\u001b[49m\u001b[43mv\u001b[49m\u001b[43m,\u001b[49m\u001b[43m \u001b[49m\u001b[43msource_class_slot_range\u001b[49m\u001b[43m,\u001b[49m\u001b[43m \u001b[49m\u001b[43mtarget_range\u001b[49m\u001b[43m)\u001b[49m\n\u001b[32m    306\u001b[39m \u001b[38;5;28;01mif\u001b[39;00m (\n\u001b[32m    307\u001b[39m     \u001b[38;5;28mself\u001b[39m._is_coerce_to_multivalued(slot_derivation, class_deriv)\n\u001b[32m    308\u001b[39m     \u001b[38;5;129;01mand\u001b[39;00m v \u001b[38;5;129;01mis\u001b[39;00m \u001b[38;5;129;01mnot\u001b[39;00m \u001b[38;5;28;01mNone\u001b[39;00m\n\u001b[32m    309\u001b[39m     \u001b[38;5;129;01mand\u001b[39;00m \u001b[38;5;129;01mnot\u001b[39;00m \u001b[38;5;28misinstance\u001b[39m(v, \u001b[38;5;28mlist\u001b[39m)\n\u001b[32m    310\u001b[39m ):\n\u001b[32m    311\u001b[39m     v = \u001b[38;5;28mself\u001b[39m._singlevalued_to_multivalued(v, slot_derivation)\n",
      "\u001b[36mFile \u001b[39m\u001b[32m/sbgenomics/workspace/linkml-map/src/linkml_map/transformer/object_transformer.py:193\u001b[39m, in \u001b[36mObjectTransformer.map_object\u001b[39m\u001b[34m(self, source_obj, source_type, target_type, class_derivation)\u001b[39m\n\u001b[32m    190\u001b[39m     \u001b[38;5;28;01mreturn\u001b[39;00m source_obj\n\u001b[32m    191\u001b[39m \u001b[38;5;28;01mif\u001b[39;00m source_type \u001b[38;5;129;01min\u001b[39;00m sv.all_enums():\n\u001b[32m    192\u001b[39m     \u001b[38;5;66;03m# TODO: enum derivations\u001b[39;00m\n\u001b[32m--> \u001b[39m\u001b[32m193\u001b[39m     \u001b[38;5;28;01mreturn\u001b[39;00m \u001b[38;5;28;43mself\u001b[39;49m\u001b[43m.\u001b[49m\u001b[43mtransform_enum\u001b[49m\u001b[43m(\u001b[49m\u001b[43msource_obj\u001b[49m\u001b[43m,\u001b[49m\u001b[43m \u001b[49m\u001b[43msource_type\u001b[49m\u001b[43m,\u001b[49m\u001b[43m \u001b[49m\u001b[43msource_obj\u001b[49m\u001b[43m)\u001b[49m\n\u001b[32m    194\u001b[39m source_obj_typed = \u001b[38;5;28;01mNone\u001b[39;00m\n\u001b[32m    195\u001b[39m \u001b[38;5;28;01mif\u001b[39;00m \u001b[38;5;28misinstance\u001b[39m(source_obj, (BaseModel, YAMLRoot)):\n\u001b[32m    196\u001b[39m     \u001b[38;5;66;03m# ensure dict\u001b[39;00m\n",
      "\u001b[36mFile \u001b[39m\u001b[32m/sbgenomics/workspace/linkml-map/src/linkml_map/transformer/object_transformer.py:512\u001b[39m, in \u001b[36mObjectTransformer.transform_enum\u001b[39m\u001b[34m(self, source_value, enum_name, source_obj)\u001b[39m\n\u001b[32m    511\u001b[39m \u001b[38;5;28;01mdef\u001b[39;00m\u001b[38;5;250m \u001b[39m\u001b[34mtransform_enum\u001b[39m(\u001b[38;5;28mself\u001b[39m, source_value: \u001b[38;5;28mstr\u001b[39m, enum_name: \u001b[38;5;28mstr\u001b[39m, source_obj: Any) -> Optional[\u001b[38;5;28mstr\u001b[39m]:\n\u001b[32m--> \u001b[39m\u001b[32m512\u001b[39m     enum_deriv = \u001b[38;5;28;43mself\u001b[39;49m\u001b[43m.\u001b[49m\u001b[43m_get_enum_derivation\u001b[49m\u001b[43m(\u001b[49m\u001b[43menum_name\u001b[49m\u001b[43m)\u001b[49m\n\u001b[32m    513\u001b[39m     \u001b[38;5;28;01mif\u001b[39;00m enum_deriv.expr:\n\u001b[32m    514\u001b[39m         \u001b[38;5;28;01mtry\u001b[39;00m:\n",
      "\u001b[36mFile \u001b[39m\u001b[32m/sbgenomics/workspace/linkml-map/src/linkml_map/transformer/transformer.py:218\u001b[39m, in \u001b[36mTransformer._get_enum_derivation\u001b[39m\u001b[34m(self, target_enum_name)\u001b[39m\n\u001b[32m    216\u001b[39m \u001b[38;5;28;01mif\u001b[39;00m \u001b[38;5;28mlen\u001b[39m(matching_tgt_enum_derivs) != \u001b[32m1\u001b[39m:\n\u001b[32m    217\u001b[39m     msg = \u001b[33mf\u001b[39m\u001b[33m\"\u001b[39m\u001b[33mCould not find what to derive from a source \u001b[39m\u001b[38;5;132;01m{\u001b[39;00mtarget_enum_name\u001b[38;5;132;01m}\u001b[39;00m\u001b[33m\"\u001b[39m\n\u001b[32m--> \u001b[39m\u001b[32m218\u001b[39m     \u001b[38;5;28;01mraise\u001b[39;00m \u001b[38;5;167;01mValueError\u001b[39;00m(msg)\n\u001b[32m    219\u001b[39m \u001b[38;5;28;01mreturn\u001b[39;00m matching_tgt_enum_derivs[\u001b[32m0\u001b[39m]\n",
      "\u001b[31mValueError\u001b[39m: Could not find what to derive from a source phv00197400_enum"
     ]
    }
   ],
   "source": [
    "output_base = \"sbgenomics/output-files\"\n",
    "# study_dir = \"WHI-ingest\" # \"CHS-ingest\"\n",
    "study_dir = \"CHS-ingest\"\n",
    "os.makedirs(f\"/{output_base}/{study_dir}/\", exist_ok=True)\n",
    "\n",
    "# data_version = \"WHI-v12-c2\" # \"CHS-v7-c4\"\n",
    "data_version = \"CHS-v7-c4\"\n",
    "consent_label = \"DS-CVD-IRB-NPU-MDS\"\n",
    "data_loader = DataLoader(\"/sbgenomics/workspace/output/CHS_cleaned/\"+ data_version +\"/\")\n",
    "\n",
    "entities = [\n",
    "    # \"Condition\",\n",
    "    \"Demography\",\n",
    "    # \"DrugExposure\",\n",
    "    # \"MeasurementObservation\",\n",
    "    # \"Observation\",\n",
    "    # \"Person\",\n",
    "    # \"Procedure\"\n",
    "]\n",
    "\n",
    "start = time.perf_counter()\n",
    "for entity in entities:\n",
    "    print(f\"Starting {entity}\")\n",
    "    spec_files = get_spec_files(var_dir, f\" {entity}:\")\n",
    "    output_path = f\"/{output_base}/{study_dir}/{data_version}-{entity}-{consent_label}-data.yaml\"\n",
    "\n",
    "    subset = spec_files\n",
    "    # subset = [p for p in spec_files if p.stem == \"bdy_hgt\"]\n",
    "    # subset = [p for p in spec_files if p.stem >= \"stroke\"]\n",
    "    # subset = [p for p in spec_files if p.stem > \"afib\"]\n",
    "\n",
    "    \n",
    "    # with open(output_path, \"w\") as f:\n",
    "    #     for batch in batched(multi_spec_transform(data_loader, subset, source_schema, target_schema), batch_size=100):\n",
    "    #         yaml.dump_all(batch, f, explicit_start=True)\n",
    "\n",
    "    all_results = []\n",
    "\n",
    "    for batch in batched(multi_spec_transform(data_loader, subset, source_schema, target_schema), batch_size=100):\n",
    "        all_results.extend(batch)  # Collect all batches into one list\n",
    "    \n",
    "    key_name = entity.lower() + \"s\"\n",
    "    wrapped_output = {\n",
    "        key_name: all_results\n",
    "    }\n",
    "\n",
    "    with open(output_path, \"w\") as f:\n",
    "        yaml.dump(wrapped_output, f)\n",
    "    \n",
    "    print(f\"{entity} Complete\")\n",
    "\n",
    "end = time.perf_counter()\n",
    "print(f\"Time: {end - start:.2f} seconds\")"
   ]
  },
  {
   "cell_type": "code",
   "execution_count": null,
   "id": "12d3a975-39dc-4ae2-8eb9-751bc7eb454c",
   "metadata": {},
   "outputs": [],
   "source": []
  }
 ],
 "metadata": {
  "kernelspec": {
   "display_name": "Python (dm-bip)",
   "language": "python",
   "name": "dm-bip"
  },
  "language_info": {
   "codemirror_mode": {
    "name": "ipython",
    "version": 3
   },
   "file_extension": ".py",
   "mimetype": "text/x-python",
   "name": "python",
   "nbconvert_exporter": "python",
   "pygments_lexer": "ipython3",
   "version": "3.11.6"
  }
 },
 "nbformat": 4,
 "nbformat_minor": 5
}
