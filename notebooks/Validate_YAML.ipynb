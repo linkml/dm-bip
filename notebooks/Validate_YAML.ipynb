{
 "cells": [
  {
   "cell_type": "code",
   "execution_count": null,
   "id": "86dca1cc-68e8-4326-8c6c-37b91cd0d519",
   "metadata": {},
   "outputs": [],
   "source": [
    "from pathlib import Path\n",
    "import yaml"
   ]
  },
  {
   "cell_type": "code",
   "execution_count": null,
   "id": "f5f9afd0-c14e-4beb-b073-6412cc36c3b0",
   "metadata": {},
   "outputs": [],
   "source": [
    "spec_dir = \"/sbgenomics/workspace/NHLBI-BDC-DMC-HV/stata_gen_yaml/Output/aric/good/\"\n",
    "base = Path(spec_dir)\n",
    "\n",
    "spec_files = list(base.rglob(\"*.yaml\"))"
   ]
  },
  {
   "cell_type": "code",
   "execution_count": null,
   "id": "31b14460-c02e-4b73-8412-b7eef841ba4d",
   "metadata": {},
   "outputs": [],
   "source": [
    "if not spec_files:\n",
    "    print(f\"No YAML files found under {base}\")\n",
    "\n",
    "all_valid = True\n",
    "for file in spec_files:\n",
    "    try:\n",
    "        with file.open(\"r\", encoding=\"utf-8\") as f:\n",
    "            yaml.safe_load(f)\n",
    "        print(f\"✅ {file} is valid\")\n",
    "    except Exception as e:\n",
    "        all_valid = False\n",
    "        print(f\"❌ {file} is invalid: {e}\")"
   ]
  },
  {
   "cell_type": "code",
   "execution_count": null,
   "id": "2f38a125-9adb-4f12-a468-7a52da4e2c64",
   "metadata": {},
   "outputs": [],
   "source": []
  }
 ],
 "metadata": {
  "kernelspec": {
   "display_name": "Python (dm-bip)",
   "language": "python",
   "name": "dm-bip"
  },
  "language_info": {
   "codemirror_mode": {
    "name": "ipython",
    "version": 3
   },
   "file_extension": ".py",
   "mimetype": "text/x-python",
   "name": "python",
   "nbconvert_exporter": "python",
   "pygments_lexer": "ipython3",
   "version": "3.11.6"
  }
 },
 "nbformat": 4,
 "nbformat_minor": 5
}
