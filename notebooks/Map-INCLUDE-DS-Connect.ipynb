{
 "cells": [
  {
   "cell_type": "markdown",
   "id": "212b417f-8858-4e72-bb85-d9453158eb84",
   "metadata": {},
   "source": [
    "# Map INCLUDE DS-Connect Data\n",
    "\n",
    "\n",
    "\n",
    "Given these files for these variables:\n",
    "- tsv_file=\"../data/DS-Connect-STUDY/raw_data/TSV_preprocessed/dsc_demographics_preprocessed.tsv\",\n",
    "- spec_file=\"../data/DS-Connect-STUDY/model_transformation/dsc_transformation_PARTICIPANT-ONLY.yaml\",\n",
    "- source_schema=\"../data/DS-Connect-STUDY/study_specific_model/DS-Connect_INCLUDE_SCHEMA_v5.yaml\",\n",
    "- target_schema=\"../data/DS-Connect-STUDY/include_schema/include_schema.yaml\",\n",
    "\n",
    "\n",
    "Map the study data to the INCLUDE LinkML model"
   ]
  },
  {
   "cell_type": "code",
   "execution_count": null,
   "id": "804e4bc1-cba7-4aaa-916d-1ca8cd9c5b3d",
   "metadata": {},
   "outputs": [],
   "source": [
    "import pandas as pd\n",
    "import yaml\n",
    "from linkml_map.transformer.object_transformer import ObjectTransformer\n",
    "from linkml_runtime import SchemaView"
   ]
  },
  {
   "cell_type": "code",
   "execution_count": null,
   "id": "d9bffc70-2fd8-43b9-ba08-e93a8fd3c30a",
   "metadata": {},
   "outputs": [],
   "source": [
    "def single_spec_transform(tsv_file, spec_file, source_schema, target_schema, target_class=\"Participant\"):\n",
    "    # Load your mapping spec\n",
    "    with open(spec_file) as f:\n",
    "        spec = yaml.safe_load(f)\n",
    "\n",
    "    # Load your TSV data\n",
    "    # TODO: Consider removing use of pandas and use TsvLoader from LinkML\n",
    "    df = pd.read_csv(tsv_file, sep=\"\\t\")\n",
    "    df = df.fillna(\"\")\n",
    "    data = df.to_dict(orient=\"records\")\n",
    "\n",
    "    # Another option to fix value_mappings - Set up the transformer once\n",
    "    transformer = ObjectTransformer(unrestricted_eval=True)\n",
    "    transformer.source_schemaview = SchemaView(source_schema)\n",
    "    transformer.target_schemaview = SchemaView(target_schema)\n",
    "\n",
    "    results = []\n",
    "    for block in spec:\n",
    "        if \"class_derivations\" in block and target_class in block[\"class_derivations\"]:\n",
    "            class_spec = block[\"class_derivations\"][target_class]\n",
    "            # Load this class mapping spec\n",
    "            transformer.create_transformer_specification(block)\n",
    "            for row in data:\n",
    "                mapped = transformer.map_object(row, source_type=class_spec[\"populated_from\"])\n",
    "                results.append(mapped)\n",
    "            break  # Only process the first matching block\n",
    "\n",
    "    return results\n",
    "\n",
    "\n",
    "# Example usage:\n",
    "results = list(\n",
    "    single_spec_transform(\n",
    "        tsv_file=\"../data/DS-Connect-STUDY/raw_data/TSV_preprocessed/dsc_demographics_preprocessed.tsv\",\n",
    "        spec_file=\"../data/DS-Connect-STUDY/model_transformation/dsc_transformation_PARTICIPANT-ONLY.yaml\",\n",
    "        source_schema=\"../data/DS-Connect-STUDY/study_specific_model/DS-Connect_INCLUDE_SCHEMA_v5.yaml\",\n",
    "        target_schema=\"../data/DS-Connect-STUDY/include_schema/include_schema.yaml\",\n",
    "    )\n",
    ")\n",
    "\n",
    "# FOR target_class=\"Participant\"\n",
    "with open(\"DSC-demographics_transformed_FINAL.yaml\", \"w\") as f:\n",
    "    yaml.safe_dump(results, f, sort_keys=False, allow_unicode=True)\n",
    "\n",
    "\n",
    "# FOR target_class=\"Condition\"\n",
    "# with open(\"conditions_transformed_FINAL.yaml\", \"w\") as f:\n",
    "#     yaml.safe_dump(results, f, sort_keys=False, allow_unicode=True)"
   ]
  },
  {
   "cell_type": "code",
   "execution_count": null,
   "id": "ba50ac0e-3a2e-4ac8-b784-0836b320e262",
   "metadata": {},
   "outputs": [],
   "source": []
  },
  {
   "cell_type": "code",
   "execution_count": null,
   "id": "aef46bec-26bb-4749-93f4-efd4df9568e8",
   "metadata": {},
   "outputs": [],
   "source": []
  }
 ],
 "metadata": {
  "kernelspec": {
   "display_name": "Python (dm-bip)",
   "language": "python",
   "name": "dm-bip"
  },
  "language_info": {
   "codemirror_mode": {
    "name": "ipython",
    "version": 3
   },
   "file_extension": ".py",
   "mimetype": "text/x-python",
   "name": "python",
   "nbconvert_exporter": "python",
   "pygments_lexer": "ipython3",
   "version": "3.12.9"
  }
 },
 "nbformat": 4,
 "nbformat_minor": 5
}
